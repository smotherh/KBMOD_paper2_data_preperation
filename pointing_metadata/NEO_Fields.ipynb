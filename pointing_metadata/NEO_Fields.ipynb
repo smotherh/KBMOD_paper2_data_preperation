{
 "cells": [
  {
   "cell_type": "markdown",
   "metadata": {},
   "source": [
    "# Metadata analysis and script generation for Lori Allen Data Processing"
   ]
  },
  {
   "cell_type": "code",
   "execution_count": null,
   "metadata": {},
   "outputs": [],
   "source": [
    "import numpy as np\n",
    "import pickle\n",
    "from astropy.io.votable import parse\n",
    "import matplotlib.pyplot as plt\n",
    "import pandas as pd\n",
    "\n",
    "import healpy as hp\n",
    "import pointing_groups as pg\n",
    "\n",
    "%matplotlib inline"
   ]
  },
  {
   "cell_type": "markdown",
   "metadata": {},
   "source": [
    "# Data and data masking"
   ]
  },
  {
   "cell_type": "code",
   "execution_count": 2,
   "metadata": {},
   "outputs": [],
   "source": [
    "\"\"\"\n",
    "df = pg.load_raw_data()\n",
    "Pointing_Groups = pg.sort_pointings(df)\n",
    "pg.pickle_pointings(Pointing_Groups)\n",
    "\"\"\"\n",
    "\n",
    "with open('PickledPointings.pkl', 'rb') as f:\n",
    "    Pointing_Groups = pickle.load(f)\n",
    "    \n",
    "den_visit,den_ccd,den_stellarnum = np.loadtxt('ref_data.txt',unpack=True)\n",
    "unique_den_visit = np.unique(den_visit)\n",
    "max_stellarnum = []\n",
    "_= [ max_stellarnum.append(np.max(den_stellarnum[den_visit==visit])) for visit in unique_den_visit ]\n",
    "max_stellarnum = np.array(max_stellarnum)\n",
    "\n",
    "for i,group in enumerate(Pointing_Groups):\n",
    "    group_max = np.concatenate([ (max_stellarnum[(unique_den_visit==x)]) for x in np.array(Pointing_Groups[i][\"visit_id\"],dtype=np.float_) ])\n",
    "    if not(group_max.size):\n",
    "        group_max=[-9999.]\n",
    "    group_max = np.max(group_max)\n",
    "    Pointing_Groups[i]['stellar_density'] = group_max\n",
    "    \n",
    "# visitToIndex is a dictionary that returns the index of a given visit\n",
    "visitToIndex = {}\n",
    "for i,pointing in enumerate(Pointing_Groups):\n",
    "    for visit in pointing['visit_id']:\n",
    "        visitToIndex[str(visit)] = i"
   ]
  },
  {
   "cell_type": "code",
   "execution_count": 43,
   "metadata": {},
   "outputs": [
    {
     "name": "stdout",
     "output_type": "stream",
     "text": [
      "372\n"
     ]
    }
   ],
   "source": [
    "i=0\n",
    "for pointing in Pointing_Groups:\n",
    "    if len(np.unique(pointing['survey_night']))>=4:\n",
    "        i+=1\n",
    "print(i)"
   ]
  },
  {
   "cell_type": "code",
   "execution_count": 44,
   "metadata": {},
   "outputs": [
    {
     "data": {
      "text/html": [
       "<div>\n",
       "<style scoped>\n",
       "    .dataframe tbody tr th:only-of-type {\n",
       "        vertical-align: middle;\n",
       "    }\n",
       "\n",
       "    .dataframe tbody tr th {\n",
       "        vertical-align: top;\n",
       "    }\n",
       "\n",
       "    .dataframe thead th {\n",
       "        text-align: right;\n",
       "    }\n",
       "</style>\n",
       "<table border=\"1\" class=\"dataframe\">\n",
       "  <thead>\n",
       "    <tr style=\"text-align: right;\">\n",
       "      <th></th>\n",
       "      <th>visit_id</th>\n",
       "      <th>date_obs</th>\n",
       "      <th>ra</th>\n",
       "      <th>dec</th>\n",
       "      <th>filename</th>\n",
       "      <th>survey_night</th>\n",
       "      <th>stellar_density</th>\n",
       "    </tr>\n",
       "  </thead>\n",
       "  <tbody>\n",
       "    <tr>\n",
       "      <th>0</th>\n",
       "      <td>303665</td>\n",
       "      <td>b'2014-04-23 03:10:44.037'</td>\n",
       "      <td>212.142500</td>\n",
       "      <td>-12.421111</td>\n",
       "      <td>b'c4d_140423_031214_ooi_VR_v1.fits.fz'</td>\n",
       "      <td>1</td>\n",
       "      <td>6984.0</td>\n",
       "    </tr>\n",
       "    <tr>\n",
       "      <th>1</th>\n",
       "      <td>303669</td>\n",
       "      <td>b'2014-04-23 03:15:22.493'</td>\n",
       "      <td>212.141167</td>\n",
       "      <td>-12.422583</td>\n",
       "      <td>b'c4d_140423_031655_ooi_VR_v1.fits.fz'</td>\n",
       "      <td>1</td>\n",
       "      <td>6984.0</td>\n",
       "    </tr>\n",
       "    <tr>\n",
       "      <th>2</th>\n",
       "      <td>303673</td>\n",
       "      <td>b'2014-04-23 03:20:02.329'</td>\n",
       "      <td>212.141833</td>\n",
       "      <td>-12.422528</td>\n",
       "      <td>b'c4d_140423_032134_ooi_VR_v1.fits.fz'</td>\n",
       "      <td>1</td>\n",
       "      <td>6984.0</td>\n",
       "    </tr>\n",
       "    <tr>\n",
       "      <th>3</th>\n",
       "      <td>303677</td>\n",
       "      <td>b'2014-04-23 03:24:35.038'</td>\n",
       "      <td>212.141875</td>\n",
       "      <td>-12.421389</td>\n",
       "      <td>b'c4d_140423_032605_ooi_VR_v1.fits.fz'</td>\n",
       "      <td>1</td>\n",
       "      <td>6984.0</td>\n",
       "    </tr>\n",
       "    <tr>\n",
       "      <th>4</th>\n",
       "      <td>303681</td>\n",
       "      <td>b'2014-04-23 03:29:13.181'</td>\n",
       "      <td>212.141833</td>\n",
       "      <td>-12.421972</td>\n",
       "      <td>b'c4d_140423_033047_ooi_VR_v1.fits.fz'</td>\n",
       "      <td>1</td>\n",
       "      <td>6984.0</td>\n",
       "    </tr>\n",
       "    <tr>\n",
       "      <th>5</th>\n",
       "      <td>304356</td>\n",
       "      <td>b'2014-04-24 03:42:35.344'</td>\n",
       "      <td>212.144875</td>\n",
       "      <td>-12.421361</td>\n",
       "      <td>b'c4d_140424_034408_ooi_VR_v1.fits.fz'</td>\n",
       "      <td>2</td>\n",
       "      <td>6984.0</td>\n",
       "    </tr>\n",
       "    <tr>\n",
       "      <th>6</th>\n",
       "      <td>304360</td>\n",
       "      <td>b'2014-04-24 03:47:15.223'</td>\n",
       "      <td>212.144667</td>\n",
       "      <td>-12.420639</td>\n",
       "      <td>b'c4d_140424_034848_ooi_VR_v1.fits.fz'</td>\n",
       "      <td>2</td>\n",
       "      <td>6984.0</td>\n",
       "    </tr>\n",
       "    <tr>\n",
       "      <th>7</th>\n",
       "      <td>304364</td>\n",
       "      <td>b'2014-04-24 03:51:55.539'</td>\n",
       "      <td>212.143583</td>\n",
       "      <td>-12.420917</td>\n",
       "      <td>b'c4d_140424_035326_ooi_VR_v1.fits.fz'</td>\n",
       "      <td>2</td>\n",
       "      <td>6984.0</td>\n",
       "    </tr>\n",
       "    <tr>\n",
       "      <th>8</th>\n",
       "      <td>304368</td>\n",
       "      <td>b'2014-04-24 03:56:34.379'</td>\n",
       "      <td>212.143500</td>\n",
       "      <td>-12.421972</td>\n",
       "      <td>b'c4d_140424_035808_ooi_VR_v1.fits.fz'</td>\n",
       "      <td>2</td>\n",
       "      <td>6984.0</td>\n",
       "    </tr>\n",
       "    <tr>\n",
       "      <th>9</th>\n",
       "      <td>304372</td>\n",
       "      <td>b'2014-04-24 04:01:14.413'</td>\n",
       "      <td>212.143167</td>\n",
       "      <td>-12.422389</td>\n",
       "      <td>b'c4d_140424_040247_ooi_VR_v1.fits.fz'</td>\n",
       "      <td>2</td>\n",
       "      <td>6984.0</td>\n",
       "    </tr>\n",
       "    <tr>\n",
       "      <th>10</th>\n",
       "      <td>305002</td>\n",
       "      <td>b'2014-04-25 03:38:32.067'</td>\n",
       "      <td>212.138125</td>\n",
       "      <td>-12.420639</td>\n",
       "      <td>b'c4d_140425_034005_ooi_VR_v1.fits.fz'</td>\n",
       "      <td>3</td>\n",
       "      <td>6984.0</td>\n",
       "    </tr>\n",
       "    <tr>\n",
       "      <th>11</th>\n",
       "      <td>305006</td>\n",
       "      <td>b'2014-04-25 03:43:12.014'</td>\n",
       "      <td>212.138500</td>\n",
       "      <td>-12.420639</td>\n",
       "      <td>b'c4d_140425_034445_ooi_VR_v1.fits.fz'</td>\n",
       "      <td>3</td>\n",
       "      <td>6984.0</td>\n",
       "    </tr>\n",
       "    <tr>\n",
       "      <th>12</th>\n",
       "      <td>305010</td>\n",
       "      <td>b'2014-04-25 03:47:50.422'</td>\n",
       "      <td>212.139000</td>\n",
       "      <td>-12.419528</td>\n",
       "      <td>b'c4d_140425_034923_ooi_VR_v1.fits.fz'</td>\n",
       "      <td>3</td>\n",
       "      <td>6984.0</td>\n",
       "    </tr>\n",
       "    <tr>\n",
       "      <th>13</th>\n",
       "      <td>305014</td>\n",
       "      <td>b'2014-04-25 03:52:31.393'</td>\n",
       "      <td>212.137083</td>\n",
       "      <td>-12.420056</td>\n",
       "      <td>b'c4d_140425_035403_ooi_VR_v1.fits.fz'</td>\n",
       "      <td>3</td>\n",
       "      <td>6984.0</td>\n",
       "    </tr>\n",
       "    <tr>\n",
       "      <th>14</th>\n",
       "      <td>305018</td>\n",
       "      <td>b'2014-04-25 03:57:11.915'</td>\n",
       "      <td>212.137625</td>\n",
       "      <td>-12.421972</td>\n",
       "      <td>b'c4d_140425_035845_ooi_VR_v1.fits.fz'</td>\n",
       "      <td>3</td>\n",
       "      <td>6984.0</td>\n",
       "    </tr>\n",
       "    <tr>\n",
       "      <th>15</th>\n",
       "      <td>305609</td>\n",
       "      <td>b'2014-04-26 02:05:23.771'</td>\n",
       "      <td>212.140458</td>\n",
       "      <td>-12.418778</td>\n",
       "      <td>b'c4d_140426_020657_ooi_VR_v1.fits.fz'</td>\n",
       "      <td>4</td>\n",
       "      <td>6984.0</td>\n",
       "    </tr>\n",
       "    <tr>\n",
       "      <th>16</th>\n",
       "      <td>305613</td>\n",
       "      <td>b'2014-04-26 02:10:02.062'</td>\n",
       "      <td>212.140292</td>\n",
       "      <td>-12.418806</td>\n",
       "      <td>b'c4d_140426_021135_ooi_VR_v1.fits.fz'</td>\n",
       "      <td>4</td>\n",
       "      <td>6984.0</td>\n",
       "    </tr>\n",
       "    <tr>\n",
       "      <th>17</th>\n",
       "      <td>305617</td>\n",
       "      <td>b'2014-04-26 02:14:36.468'</td>\n",
       "      <td>212.141083</td>\n",
       "      <td>-12.418500</td>\n",
       "      <td>b'c4d_140426_021609_ooi_VR_v1.fits.fz'</td>\n",
       "      <td>4</td>\n",
       "      <td>6984.0</td>\n",
       "    </tr>\n",
       "    <tr>\n",
       "      <th>18</th>\n",
       "      <td>305621</td>\n",
       "      <td>b'2014-04-26 02:19:11.247'</td>\n",
       "      <td>212.140792</td>\n",
       "      <td>-12.419028</td>\n",
       "      <td>b'c4d_140426_022045_ooi_VR_v1.fits.fz'</td>\n",
       "      <td>4</td>\n",
       "      <td>6984.0</td>\n",
       "    </tr>\n",
       "    <tr>\n",
       "      <th>19</th>\n",
       "      <td>305625</td>\n",
       "      <td>b'2014-04-26 02:23:51.786'</td>\n",
       "      <td>212.141000</td>\n",
       "      <td>-12.419639</td>\n",
       "      <td>b'c4d_140426_022523_ooi_VR_v1.fits.fz'</td>\n",
       "      <td>4</td>\n",
       "      <td>6984.0</td>\n",
       "    </tr>\n",
       "    <tr>\n",
       "      <th>20</th>\n",
       "      <td>306291</td>\n",
       "      <td>b'2014-04-27 02:03:18.897'</td>\n",
       "      <td>212.140500</td>\n",
       "      <td>-12.418528</td>\n",
       "      <td>b'c4d_140427_020450_ooi_VR_v1.fits.fz'</td>\n",
       "      <td>5</td>\n",
       "      <td>6984.0</td>\n",
       "    </tr>\n",
       "    <tr>\n",
       "      <th>21</th>\n",
       "      <td>306295</td>\n",
       "      <td>b'2014-04-27 02:07:54.52'</td>\n",
       "      <td>212.142625</td>\n",
       "      <td>-12.417250</td>\n",
       "      <td>b'c4d_140427_020926_ooi_VR_v1.fits.fz'</td>\n",
       "      <td>5</td>\n",
       "      <td>6984.0</td>\n",
       "    </tr>\n",
       "    <tr>\n",
       "      <th>22</th>\n",
       "      <td>306299</td>\n",
       "      <td>b'2014-04-27 02:12:31.989'</td>\n",
       "      <td>212.140917</td>\n",
       "      <td>-12.416583</td>\n",
       "      <td>b'c4d_140427_021405_ooi_VR_v1.fits.fz'</td>\n",
       "      <td>5</td>\n",
       "      <td>6984.0</td>\n",
       "    </tr>\n",
       "    <tr>\n",
       "      <th>23</th>\n",
       "      <td>306303</td>\n",
       "      <td>b'2014-04-27 02:17:09.587'</td>\n",
       "      <td>212.140083</td>\n",
       "      <td>-12.416389</td>\n",
       "      <td>b'c4d_140427_021842_ooi_VR_v1.fits.fz'</td>\n",
       "      <td>5</td>\n",
       "      <td>6984.0</td>\n",
       "    </tr>\n",
       "    <tr>\n",
       "      <th>24</th>\n",
       "      <td>306307</td>\n",
       "      <td>b'2014-04-27 02:21:50.618'</td>\n",
       "      <td>212.137625</td>\n",
       "      <td>-12.415778</td>\n",
       "      <td>b'c4d_140427_022322_ooi_VR_v1.fits.fz'</td>\n",
       "      <td>5</td>\n",
       "      <td>6984.0</td>\n",
       "    </tr>\n",
       "  </tbody>\n",
       "</table>\n",
       "</div>"
      ],
      "text/plain": [
       "    visit_id                    date_obs          ra        dec  \\\n",
       "0     303665  b'2014-04-23 03:10:44.037'  212.142500 -12.421111   \n",
       "1     303669  b'2014-04-23 03:15:22.493'  212.141167 -12.422583   \n",
       "2     303673  b'2014-04-23 03:20:02.329'  212.141833 -12.422528   \n",
       "3     303677  b'2014-04-23 03:24:35.038'  212.141875 -12.421389   \n",
       "4     303681  b'2014-04-23 03:29:13.181'  212.141833 -12.421972   \n",
       "5     304356  b'2014-04-24 03:42:35.344'  212.144875 -12.421361   \n",
       "6     304360  b'2014-04-24 03:47:15.223'  212.144667 -12.420639   \n",
       "7     304364  b'2014-04-24 03:51:55.539'  212.143583 -12.420917   \n",
       "8     304368  b'2014-04-24 03:56:34.379'  212.143500 -12.421972   \n",
       "9     304372  b'2014-04-24 04:01:14.413'  212.143167 -12.422389   \n",
       "10    305002  b'2014-04-25 03:38:32.067'  212.138125 -12.420639   \n",
       "11    305006  b'2014-04-25 03:43:12.014'  212.138500 -12.420639   \n",
       "12    305010  b'2014-04-25 03:47:50.422'  212.139000 -12.419528   \n",
       "13    305014  b'2014-04-25 03:52:31.393'  212.137083 -12.420056   \n",
       "14    305018  b'2014-04-25 03:57:11.915'  212.137625 -12.421972   \n",
       "15    305609  b'2014-04-26 02:05:23.771'  212.140458 -12.418778   \n",
       "16    305613  b'2014-04-26 02:10:02.062'  212.140292 -12.418806   \n",
       "17    305617  b'2014-04-26 02:14:36.468'  212.141083 -12.418500   \n",
       "18    305621  b'2014-04-26 02:19:11.247'  212.140792 -12.419028   \n",
       "19    305625  b'2014-04-26 02:23:51.786'  212.141000 -12.419639   \n",
       "20    306291  b'2014-04-27 02:03:18.897'  212.140500 -12.418528   \n",
       "21    306295   b'2014-04-27 02:07:54.52'  212.142625 -12.417250   \n",
       "22    306299  b'2014-04-27 02:12:31.989'  212.140917 -12.416583   \n",
       "23    306303  b'2014-04-27 02:17:09.587'  212.140083 -12.416389   \n",
       "24    306307  b'2014-04-27 02:21:50.618'  212.137625 -12.415778   \n",
       "\n",
       "                                  filename  survey_night  stellar_density  \n",
       "0   b'c4d_140423_031214_ooi_VR_v1.fits.fz'             1           6984.0  \n",
       "1   b'c4d_140423_031655_ooi_VR_v1.fits.fz'             1           6984.0  \n",
       "2   b'c4d_140423_032134_ooi_VR_v1.fits.fz'             1           6984.0  \n",
       "3   b'c4d_140423_032605_ooi_VR_v1.fits.fz'             1           6984.0  \n",
       "4   b'c4d_140423_033047_ooi_VR_v1.fits.fz'             1           6984.0  \n",
       "5   b'c4d_140424_034408_ooi_VR_v1.fits.fz'             2           6984.0  \n",
       "6   b'c4d_140424_034848_ooi_VR_v1.fits.fz'             2           6984.0  \n",
       "7   b'c4d_140424_035326_ooi_VR_v1.fits.fz'             2           6984.0  \n",
       "8   b'c4d_140424_035808_ooi_VR_v1.fits.fz'             2           6984.0  \n",
       "9   b'c4d_140424_040247_ooi_VR_v1.fits.fz'             2           6984.0  \n",
       "10  b'c4d_140425_034005_ooi_VR_v1.fits.fz'             3           6984.0  \n",
       "11  b'c4d_140425_034445_ooi_VR_v1.fits.fz'             3           6984.0  \n",
       "12  b'c4d_140425_034923_ooi_VR_v1.fits.fz'             3           6984.0  \n",
       "13  b'c4d_140425_035403_ooi_VR_v1.fits.fz'             3           6984.0  \n",
       "14  b'c4d_140425_035845_ooi_VR_v1.fits.fz'             3           6984.0  \n",
       "15  b'c4d_140426_020657_ooi_VR_v1.fits.fz'             4           6984.0  \n",
       "16  b'c4d_140426_021135_ooi_VR_v1.fits.fz'             4           6984.0  \n",
       "17  b'c4d_140426_021609_ooi_VR_v1.fits.fz'             4           6984.0  \n",
       "18  b'c4d_140426_022045_ooi_VR_v1.fits.fz'             4           6984.0  \n",
       "19  b'c4d_140426_022523_ooi_VR_v1.fits.fz'             4           6984.0  \n",
       "20  b'c4d_140427_020450_ooi_VR_v1.fits.fz'             5           6984.0  \n",
       "21  b'c4d_140427_020926_ooi_VR_v1.fits.fz'             5           6984.0  \n",
       "22  b'c4d_140427_021405_ooi_VR_v1.fits.fz'             5           6984.0  \n",
       "23  b'c4d_140427_021842_ooi_VR_v1.fits.fz'             5           6984.0  \n",
       "24  b'c4d_140427_022322_ooi_VR_v1.fits.fz'             5           6984.0  "
      ]
     },
     "execution_count": 44,
     "metadata": {},
     "output_type": "execute_result"
    }
   ],
   "source": [
    "\"\"\"\n",
    "makeDiscreteSkyMap.py repo-with-images --output desired-coadd-landing-place --id some-butler-id-here\n",
    "makeCoaddTempExp.py repo-with-images --output desired-coadd-landing-place --selectId butler-id-for-input-images --id filter=g --config makePsfMatched=True\n",
    "assembleCoadd.py repo-with-images --output desired-coadd-landing-place --warpCompareCoadd --selectId butler-id-for-input-images --id filter=g tract=0 patch=1,2^1,3^1,4 [yes you have to be explicit] --config doInterp=True\n",
    "imageDifference.py . --output ../coadd/ --id visit= ccdnum=1^3..60^62 filter=g --clobber-config --no-versions --config doSelectSources=False\n",
    "\"\"\"\n",
    "Pointing_Groups[23]"
   ]
  },
  {
   "cell_type": "code",
   "execution_count": 6,
   "metadata": {},
   "outputs": [
    {
     "data": {
      "image/png": "[encoded data removed]",
      "text/plain": [
       "<Figure size 432x288 with 1 Axes>"
      ]
     },
     "metadata": {
      "needs_background": "light"
     },
     "output_type": "display_data"
    }
   ],
   "source": [
    "den_visits,den_ccd,den_count = np.loadtxt('ref_data.txt',unpack=True)\n",
    "unique_visits = np.unique(den_visits)\n",
    "max_den = -9999*np.ones(len(unique_visits))\n",
    "\n",
    "for i,visit in enumerate(unique_visits):\n",
    "    max_den[i]=np.max(den_count[den_visits==visit])\n",
    "    \n",
    "_=plt.hist(max_den,bins=25)\n",
    "\n",
    "for i in range(len(Pointing_Groups)):\n",
    "    Pointing_Groups[i]['stellar_den'] = max_den[unique_visits==Pointing_Groups[i]['visit_id'][0]][0]\n",
    "    \n",
    "for pointing in Pointing_Groups:\n",
    "    if pointing['stellar_den'][0] != np.mean(pointing['stellar_den']):\n",
    "        print('Bad stellar density at {visit}'.format(visit=pointing['visit_id'][0]))"
   ]
  },
  {
   "cell_type": "code",
   "execution_count": 7,
   "metadata": {},
   "outputs": [
    {
     "name": "stdout",
     "output_type": "stream",
     "text": [
      "There are 28 bad groups in the data.\n",
      "The indicies for the bad groups are:\n",
      "[28, 169, 170, 184, 408, 424, 425, 426, 427, 428, 429, 430, 506, 509, 533, 534, 537, 538, 540, 541, 542, 633, 683, 717, 718, 719, 722, 724]\n"
     ]
    }
   ],
   "source": [
    "# We define \"Bad Groups\" as groups where the maximum separation between image centers is greater than 25 arcsec\n",
    "\n",
    "Bad_Group_Index = []\n",
    "Arcsec_Tol = 25 # Tolerance defining a bad group in arcseconds\n",
    "for i in range(len(Pointing_Groups)):\n",
    "    RAResidual = Pointing_Groups[i][\"ra\"].values-np.mean(Pointing_Groups[i][\"ra\"].values)\n",
    "    RAResidual*=3600\n",
    "    DECResidual = Pointing_Groups[i][\"dec\"].values-np.mean(Pointing_Groups[i][\"dec\"].values)\n",
    "    if (np.max(abs(RAResidual))>Arcsec_Tol or np.max(abs(DECResidual))>Arcsec_Tol):\n",
    "        Bad_Group_Index.append(i)\n",
    "    DECResidual*=3600\n",
    "    #plt.plot(RAResidual,'r')\n",
    "    #plt.plot(DECResidual,'b')\n",
    "    \n",
    "print(\"There are {bad_group_num} bad groups in the data.\".format(bad_group_num=len(Bad_Group_Index)))\n",
    "print(\"The indicies for the bad groups are:\\n\"+str(Bad_Group_Index))"
   ]
  },
  {
   "cell_type": "code",
   "execution_count": 8,
   "metadata": {
    "scrolled": true
   },
   "outputs": [
    {
     "data": {
      "image/png": "[encoded data removed]",
      "text/plain": [
       "<Figure size 720x504 with 1 Axes>"
      ]
     },
     "metadata": {
      "needs_background": "light"
     },
     "output_type": "display_data"
    }
   ],
   "source": [
    "# This cell plots the bad pointings in order to visualize the spread of pointings in the bad pointing groups\n",
    "#%matplotlib notebook\n",
    "#for index in Bad_Group_Index:\n",
    "for index in [11]:\n",
    "    pg.plot_pointings(Pointing_Groups[index][\"visit_id\"],Pointing_Groups[index][\"ra\"],Pointing_Groups[index][\"dec\"])"
   ]
  },
  {
   "cell_type": "markdown",
   "metadata": {},
   "source": [
    "# Script generation"
   ]
  },
  {
   "cell_type": "code",
   "execution_count": 4,
   "metadata": {},
   "outputs": [],
   "source": [
    "import jobmaker\n",
    "import matcher"
   ]
  },
  {
   "cell_type": "markdown",
   "metadata": {},
   "source": [
    "## ProcessCCD.py"
   ]
  },
  {
   "cell_type": "code",
   "execution_count": 15,
   "metadata": {},
   "outputs": [],
   "source": [
    "# This cell creates the linking script for processing the dataset on hyak\n",
    "jobmaker.link_instcal_files(Pointing_Groups,'/gscratch/scrubbed/smotherh/NEO',\n",
    "                       '/gscratch/scrubbed/smotherh/refcats/htm',\n",
    "                       '/scr/astro/smotherh/pointing_groups',script_name='link_files_hyak_local_test.sh')"
   ]
  },
  {
   "cell_type": "code",
   "execution_count": 10,
   "metadata": {},
   "outputs": [],
   "source": [
    "# This cell creates the linking script for processing the dataset on epyc\n",
    "jobmaker.link_instcal_files(Pointing_Groups,'/astro/store/pogo4/jbkalmbach/NEO',\n",
    "                       '/astro/store/epyc/users/smotherh/refcats/htm',\n",
    "                       '/astro/store/epyc/users/smotherh/pointing_groups',script_name='link_files_epyc.sh')"
   ]
  },
  {
   "cell_type": "code",
   "execution_count": 17,
   "metadata": {},
   "outputs": [],
   "source": [
    "jobmaker.process_visits(Pointing_Groups,'/scr/astro/smotherh/pointing_groups',\n",
    "                        [51,51],script_name='process_visits_51_hyak_local_test.sh',num_cores=28)"
   ]
  },
  {
   "cell_type": "code",
   "execution_count": 5,
   "metadata": {},
   "outputs": [],
   "source": [
    "known_data = np.loadtxt('/epyc/projects2/smotherh/DECAM_Data_Reduction/pointing_groups_hyak/known_object_list.txt')\n",
    "known_idx = np.unique(known_data[:,0]).astype(int)\n",
    "Known_Objs_PG = [Pointing_Groups[i] for i in known_idx]\n",
    "jobmaker.process_visits(Pointing_Groups,'/gscratch/scrubbed/smotherh/pointing_groups',\n",
    "                        known_idx,pg_idx_type='index',script_name='process_known_visits_baldur.sh',num_cores=20)"
   ]
  },
  {
   "cell_type": "code",
   "execution_count": 8,
   "metadata": {},
   "outputs": [],
   "source": [
    "# This cell generates the bash linking script for getting one image from each field.\n",
    "# c4d_140429_024704_ooi_VR_v1.fits.fz has INDEF for MAGZERO and causes a bug\n",
    "\n",
    "with open(\"link_files_SampleFields.sh\", \"w\") as f:\n",
    "\n",
    "    dir_name = \"SampleFields\"\n",
    "    f.write('\\n# Link files for field: '+dir_name+'\\n')\n",
    "    f.write('mkdir '+dir_name+'\\n')\n",
    "    f.write('mkdir '+dir_name+'/ingest/\\n')\n",
    "    f.write('mkdir '+dir_name+'/ingest/instcal\\n')\n",
    "    f.write('mkdir '+dir_name+'/ingest/dqmask\\n')\n",
    "    f.write('mkdir '+dir_name+'/ingest/wtmap\\n')\n",
    "    for i in range(len(Pointing_Groups)):\n",
    "        if Pointing_Groups[i][\"survey_night\"][0] != 3:\n",
    "            link_files = (\"ln -s /astro/store/pogo4/jbkalmbach/NEO/night_{nightnum}/night_{nightnum}/{filename} {destination}\\n\")\n",
    "        else:\n",
    "            link_files = (\"ln -s /astro/store/pogo4/jbkalmbach/NEO/night_{nightnum}/night_{nightnum}/night_{nightnum}/{filename} {destination}\\n\")\n",
    "\n",
    "\n",
    "        dqmask = Pointing_Groups[i]['filename'][0].decode('UTF-8')[0:20]+'d'+Pointing_Groups[i]['filename'][0].decode('UTF-8')[21:]\n",
    "        wtmap = Pointing_Groups[i]['filename'][0].decode('UTF-8')[0:20]+'w'+Pointing_Groups[i]['filename'][0].decode('UTF-8')[21:]\n",
    "        \n",
    "        destination = '/astro/store/epyc/users/smotherh/DECAM_Data_Reduction/fields/'+dir_name+'/ingest/instcal/\\n'\n",
    "        f.write(link_files.format(nightnum=Pointing_Groups[i][\"survey_night\"][0],filename=Pointing_Groups[i][\"filename\"][0].decode('UTF-8'),destination=destination))\n",
    "\n",
    "        destination = '/astro/store/epyc/users/smotherh/DECAM_Data_Reduction/fields/'+dir_name+'/ingest/dqmask/\\n'\n",
    "        f.write(link_files.format(nightnum=Pointing_Groups[i][\"survey_night\"][0],filename=dqmask,destination=destination))\n",
    "        \n",
    "        destination = '/astro/store/epyc/users/smotherh/DECAM_Data_Reduction/fields/'+dir_name+'/ingest/wtmap/\\n'\n",
    "        f.write(link_files.format(nightnum=Pointing_Groups[i][\"survey_night\"][0],filename=wtmap,destination=destination))"
   ]
  },
  {
   "cell_type": "markdown",
   "metadata": {},
   "source": [
    "## Image Differencing"
   ]
  },
  {
   "cell_type": "code",
   "execution_count": 24,
   "metadata": {},
   "outputs": [],
   "source": [
    "default_epyc_settings = {\n",
    "    \"in_repos_topdir\"  : \"/epyc/users/smotherh/DECAM_Data_Reduction/pointing_groups_hyak/\",\n",
    "    \"out_repos_topdir\" : \"/epyc/users/dinob/imdiff/DECAM_DiffIm/pointing_group_imdiffs/\",\n",
    "    \"cfgfile_path\"     : \"/epyc/users/dinob/imdiff/DECAM_DiffIm/config.py\",\n",
    "\n",
    "    \"in_repo_rerun_dirstr\" : \"Pointing_Group_{groupid:03d}/processed_data/rerun/rerun_processed_data/\",\n",
    "    \"out_saveloc_dirstr\"   : \"{groupid:03d}\",\n",
    "    \n",
    "    \"stdoutstr\" : \"imdiff_{visitid}.out\",\n",
    "    \"stderrstr\" : \"imdiff_{visitid}.err\",\n",
    "\n",
    "    \"script_namestr\" : \"job_group_{groupid:03d}\",\n",
    "    \"self.save_path\" : \".\",\n",
    "\n",
    "    \"parallel\" : True,\n",
    "    \"longlog\"  : True,\n",
    "    \"limited\"  : True,\n",
    "    \"perccd\"   : False,\n",
    "    \"niced\"    : True,\n",
    "\n",
    "    \"timeout\" : 86400,\n",
    "    \"niceness\" : \"17\",\n",
    "    \"ncpu\" : 20,\n",
    "    \"ccd\" : 1,\n",
    "}"
   ]
  },
  {
   "cell_type": "code",
   "execution_count": 25,
   "metadata": {},
   "outputs": [],
   "source": [
    "default_hyak_settings = {\n",
    "    \"in_repos_topdir\"  : \"/gscratch/scrubbed/smotherh/pointing_groups/\",\n",
    "    \"out_repos_topdir\" : \"/gscratch/scrubbed/dinob/imdiff\",\n",
    "    \"cfgfile_path\"     : \"/gscratch/scrubbed/dinob/config.py\",\n",
    "\n",
    "    \"in_repo_rerun_dirstr\" : \"Pointing_Group_{groupid:03d}/processed_data/rerun/rerun_processed_data/\",\n",
    "    \"out_saveloc_dirstr\"   : \"{groupid:03d}\",\n",
    "    \n",
    "    \"stdoutstr\" : \"imdiff_{visitid}.out\",\n",
    "    \"stderrstr\" : \"imdiff_{visitid}.err\",\n",
    "\n",
    "    \"script_namestr\" : \"slurm_group_{groupid:03d}\",\n",
    "    \"self.save_path\" : \".\",\n",
    "\n",
    "    \"parallel\" : False,\n",
    "    \"longlog\"  : True,\n",
    "    \"limited\"  : False,\n",
    "    \"perccd\"   : False,\n",
    "    \"niced\"    : False,\n",
    "\n",
    "    \"timeout\" : 86400,\n",
    "    \"niceness\" : \"17\",\n",
    "    \"ncpu\" : 20,\n",
    "    \"ccd\" : 10,\n",
    "}"
   ]
  },
  {
   "cell_type": "code",
   "execution_count": 28,
   "metadata": {},
   "outputs": [],
   "source": [
    "conf = jobmaker.JobConf(**default_epyc_settings)\n",
    "conf.save_path = \"/home/hayden/Desktop\"\n",
    "for groupid in range(300, 301):\n",
    "    jobmaker.slurm_script_from_groupid(Pointing_Groups, groupid, conf)"
   ]
  },
  {
   "cell_type": "markdown",
   "metadata": {},
   "source": [
    "## Image Warping"
   ]
  },
  {
   "cell_type": "code",
   "execution_count": 15,
   "metadata": {},
   "outputs": [],
   "source": [
    "default_warp_settings = default_hyak_settings.copy()\n",
    "\n",
    "default_warp_settings[\"in_repos_topdir\"]  = \"/gscratch/scrubbed/dinob/imdiff\"\n",
    "default_warp_settings[\"out_repos_topdir\"] = \"/gscratch/scrubbed/dinob/warps\"\n",
    "\n",
    "default_warp_settings[\"stdoutstr\"] = \"warp_{visitid:03d}.out\"\n",
    "default_warp_settings[\"stderrstr\"] = \"warp_{visitid:03d}.err\"\n",
    "default_warp_settings[\"script_namestr\"] = \"warp_group_{groupid:03d}\"\n",
    "\n",
    "warpcmd = \"./warp.py {groupid} > {stdoutpath} 2>{stderrpath}\""
   ]
  },
  {
   "cell_type": "code",
   "execution_count": 16,
   "metadata": {},
   "outputs": [],
   "source": [
    "conf = jobmaker.JobConf(**default_warp_settings)\n",
    "jobmaker.slurm_warp_script_from_groupid(40, conf, cmd=warpcmd)"
   ]
  },
  {
   "cell_type": "code",
   "execution_count": 21,
   "metadata": {},
   "outputs": [
    {
     "data": {
      "text/plain": [
       "0     438907\n",
       "1     438911\n",
       "2     438915\n",
       "3     438919\n",
       "4     438923\n",
       "5     439557\n",
       "6     439561\n",
       "7     439565\n",
       "8     439569\n",
       "9     439573\n",
       "10    440317\n",
       "11    440321\n",
       "12    440325\n",
       "13    440329\n",
       "14    440333\n",
       "Name: visit_id, dtype: int64"
      ]
     },
     "execution_count": 21,
     "metadata": {},
     "output_type": "execute_result"
    }
   ],
   "source": [
    "foo = np.unique(Pointing_Groups[100]['survey_night'])[:-2]\n",
    "nights = Pointing_Groups[100]['survey_night']\n",
    "Pointing_Groups[100]['visit_id'][np.in1d(nights,foo)]"
   ]
  },
  {
   "cell_type": "code",
   "execution_count": 10,
   "metadata": {},
   "outputs": [
    {
     "data": {
      "text/plain": [
       "20"
      ]
     },
     "execution_count": 10,
     "metadata": {},
     "output_type": "execute_result"
    }
   ],
   "source": [
    "len(Pointing_Groups[385])"
   ]
  },
  {
   "cell_type": "code",
   "execution_count": 11,
   "metadata": {},
   "outputs": [
    {
     "name": "stdout",
     "output_type": "stream",
     "text": [
      "[150 151 152 153 154 155 156 157 158 159 160 161 162 163 164 165 166 167\n",
      " 168 169 170 171 172 173 174 175 176 177 178 179 180 181 182 183 184 185\n",
      " 186 187 188 189 190 191 192 193 194 195 196 197 198 199 200 201 202 203\n",
      " 204 205 206 207 208 209 210 211 212 213 214 215 216 217 218 219 220 221\n",
      " 222 223 224 225 226 227 228 229 230 231 232 233 234 235 236 237 238 239\n",
      " 240 241 242 243 244 245 246 247 248 249 250 251 252 253 254 255 256 257\n",
      " 258 259 260 261 262 263 264 265 266 267 268 269 270 271 272 273 274 275\n",
      " 276 277 278 279 280 281 282 283 284 285 286 287 288 289 290 291 292 293\n",
      " 294 295 296 297 298 299]\n"
     ]
    }
   ],
   "source": [
    "pgIndex = np.linspace(150,299,150).astype(int)\n",
    "print(pgIndex)"
   ]
  },
  {
   "cell_type": "code",
   "execution_count": 38,
   "metadata": {},
   "outputs": [
    {
     "name": "stdout",
     "output_type": "stream",
     "text": [
      "[310215 310219 310223 310227 310231 310522 310526 310530 310534 310538]\n",
      "[310844 310848 310852 310856 310860 311109 311113 311117 311121 311125]\n",
      "[310215 310219 310223 310227 310231 310522 310526 310530 310534 310538]\n"
     ]
    }
   ],
   "source": [
    "pgNum=224\n",
    "nights = Pointing_Groups[pgNum]['survey_night']\n",
    "splitNum = int(len(np.unique(nights))/2)\n",
    "nightsFirstTen = np.unique(nights)[:splitNum]\n",
    "nightsSecondTen = np.unique(nights)[-splitNum:]\n",
    "visitFirstTen = Pointing_Groups[pgNum]['visit_id'][np.in1d(nights,nightsFirstTen)].values\n",
    "visitFirstHalf = Pointing_Groups[pgNum]['visit_id'][np.in1d(nights,np.unique(nights)[:-splitNum])].values\n",
    "visitSecondTen = Pointing_Groups[pgNum]['visit_id'][np.in1d(nights,nightsSecondTen)].values\n",
    "print(visitFirstTen)\n",
    "print(visitSecondTen)\n",
    "print(visitFirstHalf)"
   ]
  },
  {
   "cell_type": "code",
   "execution_count": 13,
   "metadata": {},
   "outputs": [],
   "source": [
    "'''rerun chaining example: image\n",
    "processCcd.py . --rerun rerun_processed_data --id visit=303605..306247 ccdnum=29 -j10 --longlog -C configProcessCcd_neo.py\n",
    "makeDiscreteSkyMap.py . --rerun rerun_processed_data:secondHalf --id visit=303605..304312 -j10\n",
    "makeCoaddTempExp.py . --rerun secondHalf --selectId visit=303605..304312 --id filter=r -j10\n",
    "assembleCoadd.py . --rerun secondHalf --selectId visit=303605..304312 --id filter=r tract=0 patch=0,0 --config doInterp=True -j10\n",
    "imageDifference.py . --rerun secondHalf --id visit=305549..306247 ccdnum=29 filter=r --config doSelectSources=False'''\n",
    "pgNum = 101\n",
    "coreNum = 28\n",
    "def writeCoaddScript(pgNum, coreNum, pg_path, lsst_path, file_name=\"run_coadd_{:03}.sh\"):\n",
    "    if len(Pointing_Groups[pgNum]) < 20:\n",
    "        return(0)\n",
    "    try:\n",
    "        nights = Pointing_Groups[pgNum]['survey_night']\n",
    "        splitNum = int(len(np.unique(nights))/2)\n",
    "        nightsFirstTen = np.unique(nights)[:splitNum]\n",
    "        nightsSecondTen = np.unique(nights)[-splitNum:]\n",
    "        visitFirstTen = Pointing_Groups[pgNum]['visit_id'][np.in1d(nights,nightsFirstTen)].values\n",
    "        visitFirstHalf = Pointing_Groups[pgNum]['visit_id'][np.in1d(nights,np.unique(nights)[:-splitNum])].values\n",
    "        visitSecondTen = Pointing_Groups[pgNum]['visit_id'][np.in1d(nights,nightsSecondTen)].values\n",
    "\n",
    "        with open(file_name.format(pgNum),'w') as f:\n",
    "            f.write(\"echo \\\"Running Pointing Group {:03}\\\"\\n\".format(pgNum))\n",
    "            f.write(\"source {}/loadLSST.bash\\n\".format(lsst_path))\n",
    "            f.write(\"setup lsst_distrib\\n\")\n",
    "            f.write(\"cd {}/Pointing_Group_{:03}/processed_data\\n\".format(pg_path, pgNum))\n",
    "            f.write(\"echo \\\"Begin makeDiscreteSkyMap.py First Half\\\"\\n\")\n",
    "            f.write(\"makeDiscreteSkyMap.py . --rerun rerun_processed_data:diffFirstHalf --id visit={}..{} --clobber-config --no-versions -j{}\\n\".format(visitSecondTen[0],visitSecondTen[-1],coreNum))\n",
    "            f.write(\"echo \\\"Begin makeCoaddTempExp.py First Half\\\"\\n\")\n",
    "            f.write(\"makeCoaddTempExp.py . --rerun diffFirstHalf --selectId visit={}..{} --id filter=r --clobber-config --no-versions -j{}\\n\".format(visitSecondTen[0],visitSecondTen[-1],coreNum))\n",
    "            f.write(\"cd {}/Pointing_Group_{:03}/processed_data/rerun/diffFirstHalf/deepCoadd/r/0/\\n\".format(pg_path, pgNum))\n",
    "            f.write(\"export PATCHNUMS=\\\"$(ls -d *tempExp | sed 's/tempExp/^/' | tr -d '\\\\n' | sed 's/.$//')\\\"\\n\")\n",
    "            f.write(\"cd {}/Pointing_Group_{:03}/processed_data/\\n\".format(pg_path, pgNum))\n",
    "            f.write(\"echo \\\"Begin assembleCoadd.py First Half\\\"\\n\")\n",
    "            f.write(\"assembleCoadd.py . --rerun diffFirstHalf --selectId visit={}..{} --id filter=r tract=0 patch=$PATCHNUMS --clobber-config --no-versions --config doInterp=True -j{}\\n\".format(visitSecondTen[0],visitSecondTen[-1],coreNum))\n",
    "            f.write(\"echo \\\"Begin imageDifference.py First Half\\\"\\n\")\n",
    "            f.write(\"imageDifference.py . --rerun diffFirstHalf --id visit={}..{} ccdnum=1^3..60^62 filter=r --clobber-config --no-versions --config doSelectSources=False -j{}\\n\".format(visitFirstHalf[0],visitFirstHalf[-1],coreNum))\n",
    "\n",
    "            f.write(\"echo \\\"Begin makeDiscreteSkyMap.py Second Half\\\"\\n\")\n",
    "            f.write(\"makeDiscreteSkyMap.py . --rerun rerun_processed_data:diffSecondHalf --id visit={}..{} --clobber-config --no-versions -j{}\\n\".format(visitFirstTen[0],visitFirstTen[-1],coreNum))\n",
    "            f.write(\"echo \\\"Begin makeCoaddTempExp.py Second Half\\\"\\n\")\n",
    "            f.write(\"makeCoaddTempExp.py . --rerun diffSecondHalf --selectId visit={}..{} --id filter=r --clobber-config --no-versions -j{}\\n\".format(visitFirstTen[0],visitFirstTen[-1],coreNum))\n",
    "            f.write(\"cd {}/Pointing_Group_{:03}/processed_data/rerun/diffSecondHalf/deepCoadd/r/0/\\n\".format(pg_path, pgNum))\n",
    "            f.write(\"export PATCHNUMS=\\\"$(ls -d *tempExp | sed 's/tempExp/^/' | tr -d '\\\\n' | sed 's/.$//')\\\"\\n\")\n",
    "            f.write(\"cd {}/Pointing_Group_{:03}/processed_data/\\n\".format(pg_path, pgNum))\n",
    "            f.write(\"echo \\\"Begin assembleCoadd.py Second Half\\\"\\n\")\n",
    "            f.write(\"assembleCoadd.py . --rerun diffSecondHalf --selectId visit={}..{} --id filter=r tract=0 patch=$PATCHNUMS --clobber-config --no-versions --config doInterp=True -j{}\\n\".format(visitFirstTen[0],visitFirstTen[-1],coreNum))\n",
    "            f.write(\"echo \\\"Begin imageDifference.py Second Half\\\"\\n\")\n",
    "            f.write(\"imageDifference.py . --rerun diffSecondHalf --id visit={}..{} ccdnum=1^3..60^62 filter=r --clobber-config --no-versions --config doSelectSources=False -j{}\\n\".format(visitSecondTen[0],visitSecondTen[-1],coreNum))\n",
    "            f.write(\"cd {}/Pointing_Group_{:03}/\\n\".format(pg_path, pgNum))\n",
    "    except Exception as e: \n",
    "        print('Failed to process pointing group {:03}'.format(pgNum))\n",
    "        raise\n",
    "            \n",
    "            \n",
    "        #f.write(\"mkdir warps\\n\")\n",
    "        #f.write(\"mkdir warps/{01..62}\")\n",
    "#pgIndex = np.linspace(300,399,100).astype(int)\n",
    "#print(pgIndex)\n",
    "#for i in pgIndex:\n",
    "#    writeCoaddScript(i,coreNum)"
   ]
  },
  {
   "cell_type": "code",
   "execution_count": 14,
   "metadata": {},
   "outputs": [],
   "source": [
    "known_data = np.loadtxt('/epyc/projects2/smotherh/DECAM_Data_Reduction/pointing_groups_hyak/known_object_list.txt')\n",
    "known_idx = np.unique(known_data[:,0]).astype(int)\n",
    "for i in known_idx:\n",
    "    writeCoaddScript(i, 20, '/epyc/users/smotherh/pointing_groups', '/epyc/users/smotherh/lsst_20', file_name='run_coadd_baldur_{:03}.sh')"
   ]
  },
  {
   "cell_type": "markdown",
   "metadata": {},
   "source": [
    "## KBMOD"
   ]
  },
  {
   "cell_type": "code",
   "execution_count": null,
   "metadata": {},
   "outputs": [],
   "source": [
    "with open(\"run_warps.sh\")\n",
    "\n",
    "f.write(\"./warp.py 301 > /astro/store/epyc/users/smotherh/DECAM_Data_Reduction/warps/301/warp301.out 2>/astro/store/epyc/users/smotherh/DECAM_Data_Reduction/warps/301/warp301.err\")"
   ]
  },
  {
   "cell_type": "markdown",
   "metadata": {},
   "source": [
    "# Analysis and plotting"
   ]
  },
  {
   "cell_type": "code",
   "execution_count": 9,
   "metadata": {},
   "outputs": [],
   "source": [
    "import astropy.units as u\n",
    "\n",
    "def findMinVel(max_time,max_distance=200*u.AU):\n",
    "    \n",
    "    if max_time.si >= .5*u.yr:\n",
    "        Reflex_Distance = 2*u.AU\n",
    "    else:\n",
    "        theta = np.pi*u.radian*max_time/(1*u.yr)\n",
    "        theta =theta.to(u.radian)\n",
    "        if theta > np.pi/2 * u.radian:\n",
    "            theta -= np.pi/2 * u.radian\n",
    "            \n",
    "        print(theta)\n",
    "        Reflex_Distance = 2*np.sin(theta)*1*u.AU\n",
    "    \n",
    "    parallax_angle = np.arctan(Reflex_Distance/(2*max_distance))\n",
    "    angular_speed = parallax_angle/max_time\n",
    "    angular_speed = angular_speed.to(u.arcsec/u.hr)\n",
    "    return(angular_speed)"
   ]
  },
  {
   "cell_type": "code",
   "execution_count": 10,
   "metadata": {},
   "outputs": [
    {
     "name": "stdout",
     "output_type": "stream",
     "text": [
      "0.008601211919479242 rad\n"
     ]
    },
    {
     "data": {
      "text/latex": [
       "$0.7392106 \\; \\mathrm{\\frac{{}^{\\prime\\prime}}{h}}$"
      ],
      "text/plain": [
       "<Quantity 0.7392106 arcsec / h>"
      ]
     },
     "execution_count": 10,
     "metadata": {},
     "output_type": "execute_result"
    }
   ],
   "source": [
    "findMinVel(1*u.day,max_distance=100*u.AU)\n"
   ]
  },
  {
   "cell_type": "code",
   "execution_count": 28,
   "metadata": {},
   "outputs": [
    {
     "name": "stdout",
     "output_type": "stream",
     "text": [
      "0.0 180.0 -180.0 180.0\n",
      "The interval between parallels is 30 deg -0.00'.\n",
      "The interval between meridians is 30 deg -0.00'.\n"
     ]
    },
    {
     "data": {
      "image/png": "[encoded data removed]",
      "text/plain": [
       "<Figure size 612x388.8 with 2 Axes>"
      ]
     },
     "metadata": {},
     "output_type": "display_data"
    }
   ],
   "source": [
    "RA = []\n",
    "DEC = []\n",
    "\n",
    "for i,pointing in enumerate(Pointing_Groups):\n",
    "    RA.append(pointing[\"ra\"])\n",
    "    DEC.append(pointing[\"dec\"])\n",
    "    \n",
    "RA = np.concatenate(RA)\n",
    "DEC = np.concatenate(DEC)\n",
    "\n",
    "NSIDE =  32 #nside determines the size of the pixels\n",
    "pixels = hp.ang2pix(NSIDE, np.radians(90-DEC), np.radians(RA)) #NOTE healpy uses colatitude (north pole 0) instead of latitude\n",
    "hitmap = np.ones(hp.nside2npix(NSIDE)) * hp.UNSEEN #by convention non   hit pixels have a specific value\n",
    "pixels_binned = np.bincount(pixels)\n",
    "hitmap[:len(pixels_binned)] =  pixels_binned\n",
    "hitmap[hitmap==hp.UNSEEN] = 0\n",
    "hp.mollview(hitmap, xsize=2000, coord='C', title='Lori Allen Sky Coverage',cmap='binary')\n",
    "hp.graticule() \n",
    "#plt.savefig('Lori_Allen_Sky_Coverage.pdf')"
   ]
  },
  {
   "cell_type": "code",
   "execution_count": 12,
   "metadata": {},
   "outputs": [
    {
     "name": "stdout",
     "output_type": "stream",
     "text": [
      "12894\n",
      "12894\n"
     ]
    },
    {
     "data": {
      "image/png": "[encoded data removed]",
      "text/plain": [
       "<Figure size 432x288 with 1 Axes>"
      ]
     },
     "metadata": {},
     "output_type": "display_data"
    }
   ],
   "source": [
    "visit_id=np.concatenate([np.array(field[\"visit_id\"],dtype=np.float_) for field in Pointing_Groups])\n",
    "print(len(visit_id))\n",
    "print(len(np.unique(visit_id)))\n",
    "plt.figure()\n",
    "num_visits = [len(pointing) for pointing in Pointing_Groups]\n",
    "_=plt.hist(num_visits,bins=29,color='dimgrey',edgecolor='k')\n",
    "plt.xlabel('Number of pointings in a pointing group',fontsize=12)\n",
    "plt.savefig('pointings_hist.pdf')"
   ]
  },
  {
   "cell_type": "code",
   "execution_count": 111,
   "metadata": {},
   "outputs": [
    {
     "data": {
      "image/png": "[encoded data removed]",
      "text/plain": [
       "<Figure size 432x288 with 2 Axes>"
      ]
     },
     "metadata": {},
     "output_type": "display_data"
    },
    {
     "data": {
      "image/png": "[encoded data removed]",
      "text/plain": [
       "<Figure size 432x288 with 1 Axes>"
      ]
     },
     "metadata": {},
     "output_type": "display_data"
    }
   ],
   "source": [
    "import matplotlib.dates as mdates\n",
    "import datetime as dt\n",
    "from dateutil.parser import parse\n",
    "\n",
    "times=[[]]*len(Pointing_Groups)\n",
    "for i,pointing in enumerate(Pointing_Groups):\n",
    "    times[i]=np.array([0.]*len(Pointing_Groups[i]['date_obs']))\n",
    "    for j in range(len(Pointing_Groups[i]['date_obs'])):\n",
    "        foo = parse(Pointing_Groups[i]['date_obs'][j])\n",
    "        times[i][j]= foo.timestamp()\n",
    "\n",
    "times=np.array(times)\n",
    "\n",
    "hist_times = [[]]*len(times)\n",
    "min_time=np.min(np.concatenate(times))\n",
    "max_time=np.max(np.concatenate(times))\n",
    "\n",
    "for i,time in enumerate(times):\n",
    "    hist_times[i],bin_edges = np.histogram(time,range=[min_time,max_time],bins=50)\n",
    "hist_times = np.array(hist_times)\n",
    "\n",
    "x0=dt.datetime.fromtimestamp(bin_edges[0])\n",
    "x1=dt.datetime.fromtimestamp(bin_edges[-1])\n",
    "x_lims = mdates.date2num([x0,x1])\n",
    "\n",
    "fig,ax1 = plt.subplots()\n",
    "\n",
    "#cut_hist_times = [[]]*len(times)\n",
    "#hist_times[hist_times==0]=-9999\n",
    "im=ax1.imshow(hist_times,aspect='auto',extent=(x_lims[0],x_lims[1],len(hist_times),0),cmap='binary')\n",
    "fig.colorbar(im,ax=ax1,pad=0.02)\n",
    "\n",
    "\n",
    "ax1.xaxis_date()\n",
    "\n",
    "date_format = mdates.DateFormatter('%D')\n",
    "\n",
    "ax1.xaxis.set_major_formatter(date_format)\n",
    "fig.autofmt_xdate()\n",
    "\n",
    "ax1.set_xlabel('Time (MM/DD/YY)',fontsize=12)\n",
    "ax1.set_ylabel('Pointing groups by number',fontsize=12)\n",
    "plt.savefig('total_time_data.pdf')\n",
    "\n",
    "fig,ax2 = plt.subplots()\n",
    "\n",
    "pg2_times = np.array([mdates.date2num(parse(x)) for x in Pointing_Groups[10]['date_obs'][0:5]])\n",
    "\n",
    "ax2.hist(pg2_times,bins=50,color='dimgrey',edgecolor='k')\n",
    "\n",
    "ax2.xaxis_date()\n",
    "ax2.xaxis.set_major_locator(mdates.AutoDateLocator())\n",
    "ax2.xaxis.set_major_formatter(mdates.DateFormatter('%D %H:%M:%S'))\n",
    "ax2.set_xlabel('Time (MM/DD/YY)',fontsize=12)\n",
    "ax2.set_ylabel('Pointings in a single pointing group',fontsize=12)\n",
    "fig.autofmt_xdate()\n",
    "plt.savefig('example_time_data.pdf')\n",
    "plt.show()\n"
   ]
  },
  {
   "cell_type": "code",
   "execution_count": 14,
   "metadata": {},
   "outputs": [
    {
     "name": "stdout",
     "output_type": "stream",
     "text": [
      "(782, 50)\n"
     ]
    },
    {
     "data": {
      "text/plain": [
       "<matplotlib.image.AxesImage at 0x7fba388969b0>"
      ]
     },
     "execution_count": 14,
     "metadata": {},
     "output_type": "execute_result"
    },
    {
     "data": {
      "image/png": "[encoded data removed]",
      "text/plain": [
       "<Figure size 432x288 with 1 Axes>"
      ]
     },
     "metadata": {},
     "output_type": "display_data"
    }
   ],
   "source": [
    "a = hist_times\n",
    "print(np.shape(a))\n",
    "bar = np.array([b[~(a==0).all(0)] for b in a])\n",
    "plt.imshow(bar,aspect='auto',cmap='inferno')"
   ]
  },
  {
   "cell_type": "code",
   "execution_count": 21,
   "metadata": {},
   "outputs": [
    {
     "data": {
      "image/png": "[encoded data removed]",
      "text/plain": [
       "<Figure size 432x288 with 1 Axes>"
      ]
     },
     "metadata": {},
     "output_type": "display_data"
    }
   ],
   "source": [
    "# We can parse the astrometry measurements from the log using the command:\n",
    "# grep -i \"arcsec\" processCcd.log | cut -f2- -d= > astrometry.log\n",
    "\n",
    "astrometry_all,astrom_err=np.loadtxt('astrometry.log',unpack=True,usecols=(0,2))\n",
    "astrometry = astrometry_all[astrometry_all<.1]\n",
    "fig,ax = plt.subplots()\n",
    "ax.hist(astrometry*1000,edgecolor='k',color='dimgrey',bins=50)\n",
    "plt.text(0.5, 0.9,'median = {0:.0f} mas'.format(np.median(astrometry)*1000),\n",
    "         ha='center', va='center', transform=ax.transAxes,fontsize=12)\n",
    "plt.xlabel('Astrometry Precision (mas)',fontsize=12)\n",
    "plt.vlines(np.median(astrometry)*1000,0,70000,lw=4,linestyles='--',color='k')\n",
    "plt.savefig('astrometry_example.pdf')"
   ]
  },
  {
   "cell_type": "code",
   "execution_count": 35,
   "metadata": {},
   "outputs": [
    {
     "name": "stdout",
     "output_type": "stream",
     "text": [
      "372\n"
     ]
    }
   ],
   "source": [
    "i = 0\n",
    "for pointing in Pointing_Groups:\n",
    "    if len(np.unique(pointing['survey_night']))>3:\n",
    "        i+=1\n",
    "print(i)"
   ]
  },
  {
   "cell_type": "code",
   "execution_count": 101,
   "metadata": {},
   "outputs": [
    {
     "name": "stdout",
     "output_type": "stream",
     "text": [
      "24\n"
     ]
    }
   ],
   "source": [
    "i=0\n",
    "for pointing in Pointing_Groups:\n",
    "    if pointing['stellar_density'][0] > 10000:\n",
    "        i+=1\n",
    "print(i)"
   ]
  },
  {
   "cell_type": "code",
   "execution_count": 106,
   "metadata": {},
   "outputs": [],
   "source": [
    "import matplotlib.dates as mdates\n",
    "import datetime as dt\n",
    "from dateutil.parser import parse\n",
    "from astropy import time\n",
    "\n",
    "with open(\"loriallen_times.dat\",\"w\") as f:\n",
    "    f.write(\"# visit_id mean_julian_date\\n\")\n",
    "    \n",
    "with open(\"loriallen_times.dat\",\"a\") as f:\n",
    "    for i,pointing in enumerate(Pointing_Groups):\n",
    "        for j in range(len(Pointing_Groups[i]['date_obs'])):\n",
    "            t = time.Time(Pointing_Groups[i]['date_obs'][j].decode())\n",
    "            visit = Pointing_Groups[i]['visit_id'][j]\n",
    "            f.write(str(visit)+\" \"+str(t.mjd)+\"\\n\")"
   ]
  },
  {
   "cell_type": "code",
   "execution_count": 126,
   "metadata": {},
   "outputs": [
    {
     "name": "stdout",
     "output_type": "stream",
     "text": [
      "56773.1135602662\n",
      "56770.11368689815\n"
     ]
    }
   ],
   "source": [
    "import matplotlib.dates as mdates\n",
    "import datetime as dt\n",
    "from dateutil.parser import parse\n",
    "from astropy import time\n",
    "time_16 = []\n",
    "for row in Pointing_Groups[16]['date_obs']:\n",
    "    time_16.append(time.Time(row.decode()))\n",
    "print(time_16[19].mjd)\n",
    "print(time_16[0].mjd)"
   ]
  },
  {
   "cell_type": "code",
   "execution_count": 135,
   "metadata": {},
   "outputs": [
    {
     "ename": "NameError",
     "evalue": "name 't' is not defined",
     "output_type": "error",
     "traceback": [
      "\u001b[0;31m---------------------------------------------------------------------------\u001b[0m",
      "\u001b[0;31mNameError\u001b[0m                                 Traceback (most recent call last)",
      "\u001b[0;32m<ipython-input-135-69317d57ce22>\u001b[0m in \u001b[0;36m<module>\u001b[0;34m()\u001b[0m\n\u001b[0;32m----> 1\u001b[0;31m \u001b[0mprint\u001b[0m\u001b[0;34m(\u001b[0m\u001b[0mt\u001b[0m\u001b[0;34m.\u001b[0m\u001b[0mmjd\u001b[0m\u001b[0;34m)\u001b[0m\u001b[0;34m\u001b[0m\u001b[0;34m\u001b[0m\u001b[0m\n\u001b[0m\u001b[1;32m      2\u001b[0m \u001b[0mprint\u001b[0m\u001b[0;34m(\u001b[0m\u001b[0mtimes\u001b[0m\u001b[0;34m[\u001b[0m\u001b[0;36m121\u001b[0m\u001b[0;34m]\u001b[0m\u001b[0;34m[\u001b[0m\u001b[0;36m0\u001b[0m\u001b[0;34m]\u001b[0m\u001b[0;34m)\u001b[0m\u001b[0;34m\u001b[0m\u001b[0;34m\u001b[0m\u001b[0m\n",
      "\u001b[0;31mNameError\u001b[0m: name 't' is not defined"
     ]
    }
   ],
   "source": [
    "print(t.mjd)\n",
    "print(times[121][0])"
   ]
  },
  {
   "cell_type": "code",
   "execution_count": 2,
   "metadata": {},
   "outputs": [],
   "source": [
    "pg = 300\n",
    "\n",
    "doWarps=True\n",
    "doKBMOD=False\n",
    "\n",
    "with open(\"run_kbmod_{point:03d}.sh\".format(point=pg),\"w\") as f:\n",
    "    if doWarps:\n",
    "        f.write(\"source /astro/store/epyc/users/smotherh/lsst_16/loadLSST.bash\\n\")\n",
    "        f.write(\"setup lsst_distrib\\n\")\n",
    "        f.write(\"mkdir /astro/store/epyc/users/smotherh/DECAM_Data_Reduction/warps/{point:03d}\".format(point=pg)+\"/{01..62}\\n\")\n",
    "        f.write(\"cd /astro/store/epyc/users/smotherh/DECAM_Data_Reduction/warps\\n\")\n",
    "        f.write(\"./warp.py {point:03d} > /astro/store/epyc/users/smotherh/DECAM_Data_Reduction/warps/{point:03d}/warp{point:03d}.out 2>/astro/store/epyc/users/smotherh/DECAM_Data_Reduction/warps/{point:03d}/warp{point:03d}.err\\n\".format(point=pg))\n",
    "    if doKBMOD:\n",
    "        f.write(\"source /astro/store/epyc/users/smotherh/kbmod/setup.bash\\n\")\n",
    "        for i in range(1,63):\n",
    "            if (i!=2) and (i!=61):\n",
    "                f.write(\"python /astro/store/epyc/users/smotherh/kbmod/examples/example_search.py --image_dir /astro/store/epyc/users/smotherh/DECAM_Data_Reduction/warps/{point:03d}/{ccd:02d}/ --results_dir /astro/store/epyc/users/smotherh/DECAM_Data_Reduction/kbmod_results/{point:03d}/{ccd:02d} --time_file /astro/store/epyc/users/smotherh/DECAM_Data_Reduction/loriallen_times.dat\\n\".format(point=pg,ccd=i))"
   ]
  },
  {
   "cell_type": "code",
   "execution_count": null,
   "metadata": {},
   "outputs": [],
   "source": [
    "from astropy.io import fits\n",
    "ccd_nums = np.linspace(1,62,62).astype(int)\n",
    "ccd_nums = ccd_nums[ccd_nums!=2]\n",
    "ccd_nums = ccd_nums[ccd_nums!=61]\n",
    "pg_nums = np.linspace(91,100,100+1-91).astype(int)\n",
    "calexp_len = {}\n",
    "deepdiff_len = {}\n",
    "calexp_file_path = '/epyc/users/smotherh/DECAM_Data_Reduction/pointing_groups_hyak/Pointing_Group_{pg:03d}/processed_data/rerun/rerun_processed_data/{visit:07d}/src/src-{visit:07d}_{ccd:02d}.fits'\n",
    "deepdiff_first_file_path = '/epyc/users/smotherh/DECAM_Data_Reduction/pointing_groups_hyak/Pointing_Group_{pg:03d}/processed_data/rerun/rerun_processed_data/diffFirstHalf/deepDiff/v{visit:06d}/diaSrc-{ccd:02d}.fits'\n",
    "deepdiff_second_file_path = '/epyc/users/smotherh/DECAM_Data_Reduction/pointing_groups_hyak/Pointing_Group_{pg:03d}/processed_data/rerun/rerun_processed_data/diffSecondHalf/deepDiff/v{visit:06d}/diaSrc-{ccd:02d}.fits'\n",
    "\n",
    "for pg_num in pg_nums:\n",
    "    for visit in Pointing_Groups[pg_num]['visit_id']:\n",
    "        for ccd in ccd_nums:\n",
    "            try:\n",
    "                try:\n",
    "                    diff_hdul = fits.open(deepdiff_first_file_path.format(pg=pg_num,visit=visit,ccd=ccd))\n",
    "                except:\n",
    "                    diff_hdul = fits.open(deepdiff_second_file_path.format(pg=pg_num,visit=visit,ccd=ccd))\n",
    "                calexp_hdul = fits.open(calexp_file_path.format(pg=pg_num,visit=visit,ccd=ccd))\n",
    "            except:\n",
    "                continue\n",
    "            object_key = str(pg_num)+'_'+str(visit)+'_'+str(ccd)\n",
    "            diff_data = diff_hdul[1].data\n",
    "            deepdiff_len[object_key] = (len(diff_data['id']))\n",
    "            calexp_data = calexp_hdul[1].data\n",
    "            calexp_len[object_key] = (len(calexp_data['id']))\n",
    "diff_hdul.close()\n",
    "calexp_hdul.close()\n",
    "\n",
    "with open('calexp_src_stats.pkl', 'wb') as f:\n",
    "        pickle.dump(calexp_len, f)\n",
    "with open('diff_src_stats.pkl', 'wb') as f:\n",
    "        pickle.dump(deepdiff_len, f)"
   ]
  },
  {
   "cell_type": "code",
   "execution_count": 120,
   "metadata": {},
   "outputs": [
    {
     "name": "stdout",
     "output_type": "stream",
     "text": [
      "deepDiff Median = 180.0\n",
      "calexp Median  3396.0\n",
      "ratio: 18.866666666666667\n"
     ]
    },
    {
     "data": {
      "text/plain": [
       "<matplotlib.collections.PathCollection at 0x7f75883d3b00>"
      ]
     },
     "execution_count": 120,
     "metadata": {},
     "output_type": "execute_result"
    },
    {
     "data": {
      "image/png": "[encoded data removed]",
      "text/plain": [
       "<Figure size 576x576 with 1 Axes>"
      ]
     },
     "metadata": {},
     "output_type": "display_data"
    },
    {
     "data": {
      "image/png": "[encoded data removed]",
      "text/plain": [
       "<Figure size 576x576 with 1 Axes>"
      ]
     },
     "metadata": {},
     "output_type": "display_data"
    }
   ],
   "source": [
    "diff_len_list = list(deepdiff_len.values())\n",
    "calexp_len_list = list(calexp_len.values())\n",
    "diff_med = np.median(diff_len_list)\n",
    "calexp_med = np.median(calexp_len_list)\n",
    "plt.figure(figsize=[8,8])\n",
    "len_range = (np.min(np.ravel(diff_len_list, calexp_len_list)), np.max(np.ravel(diff_len_list, calexp_len_list)))\n",
    "_=plt.hist(diff_len_list, range=len_range, bins=50)\n",
    "_=plt.hist(calexp_len_list, range=len_range, bins=50)\n",
    "plt.legend(['Difference Imaging','Science Imaging'],fontsize=16)\n",
    "plt.xlabel('Number of sources', fontsize=16)\n",
    "plt.ylabel('Number of CCD images', fontsize=16)\n",
    "plt.savefig('Source_comparison.png')\n",
    "#plt.title('Number of sources in difference imaging and science imaging')\n",
    "print('deepDiff Median = '+str(np.median(diff_len_list)))\n",
    "print('calexp Median  '+str(np.median(calexp_len_list)))\n",
    "print('ratio: '+str(np.median(calexp_len_list)/np.median(diff_len_list)))\n",
    "plt.figure(figsize=[8,8])\n",
    "plt.scatter(diff_len_list,calexp_len_list)"
   ]
  },
  {
   "cell_type": "code",
   "execution_count": 101,
   "metadata": {},
   "outputs": [],
   "source": [
    "diff_hdul = fits.open(deepdiff_file_path.format(pg=pg_num,visit=visit,ccd=ccd))\n",
    "calexp_hdul = fits.open(calexp_file_path.format(pg=pg_num,visit=visit,ccd=ccd))"
   ]
  },
  {
   "cell_type": "code",
   "execution_count": 32,
   "metadata": {},
   "outputs": [
    {
     "data": {
      "image/png": "[encoded data removed]",
      "text/plain": [
       "<Figure size 1080x360 with 3 Axes>"
      ]
     },
     "metadata": {},
     "output_type": "display_data"
    },
    {
     "data": {
      "image/png": "[encoded data removed]",
      "text/plain": [
       "<Figure size 1080x360 with 3 Axes>"
      ]
     },
     "metadata": {},
     "output_type": "display_data"
    }
   ],
   "source": [
    "import numpy as np\n",
    "import matplotlib.pyplot as plt\n",
    "def makeRuntimePlots(time_path, res_path, clustering_path):\n",
    "    pg_59_runtimes = np.loadtxt(time_path)\n",
    "    pg_59_results = np.loadtxt(res_path)\n",
    "    pg_59_clustering = np.loadtxt(clustering_path)\n",
    "\n",
    "    fig,ax = plt.subplots(ncols=3,figsize=[15,5])\n",
    "    ax[0].hist(pg_59_runtimes)\n",
    "    ax[0].set_xlabel('Runtime [s]',fontsize=16)\n",
    "    ax[1].plot(pg_59_runtimes,pg_59_clustering,'.',ms=10)\n",
    "    ax[1].set_xlabel('Runtime [s]', fontsize=16)\n",
    "    ax[1].set_ylabel('Results before clustering', fontsize=16)\n",
    "    ax[2].plot(pg_59_runtimes,pg_59_results,'.',ms=10)\n",
    "    ax[2].set_xlabel('Runtime [s]', fontsize=16)\n",
    "    ax[2].set_ylabel('Results after clustering', fontsize=16)\n",
    "    fig.tight_layout()\n",
    "\n",
    "makeRuntimePlots('/epyc/users/smotherh/DECAM_Data_Reduction/pointing_groups_hyak/time_59.txt',\n",
    "                 '/epyc/users/smotherh/DECAM_Data_Reduction/pointing_groups_hyak/results_59.txt',\n",
    "                 '/epyc/users/smotherh/DECAM_Data_Reduction/pointing_groups_hyak/clustering_59.txt')\n",
    "\n",
    "makeRuntimePlots('/epyc/users/smotherh/DECAM_Data_Reduction/pointing_groups_hyak/time_23.txt',\n",
    "                 '/epyc/users/smotherh/DECAM_Data_Reduction/pointing_groups_hyak/results_23.txt',\n",
    "                 '/epyc/users/smotherh/DECAM_Data_Reduction/pointing_groups_hyak/clustering_23.txt')"
   ]
  },
  {
   "cell_type": "code",
   "execution_count": 89,
   "metadata": {},
   "outputs": [],
   "source": [
    "from astropy.io import fits\n",
    "import pointing_groups as pg\n",
    "\n",
    "\n",
    "# Seeing info is saved in PickledPointingswSeeing.pkl\n",
    "\n",
    "def getPSF(pg,imagePath):\n",
    "    seeing = []\n",
    "    for i,row in pg.iterrows():\n",
    "        visit_id = row['visit_id']\n",
    "        ccd=20\n",
    "        try:\n",
    "            fitsPath = '{path}/processed_data/rerun/rerun_processed_data/{visit_id:07d}/calexp/calexp-{visit_id:07d}_{ccd_num:02d}.fits'.format(\n",
    "                path=imagePath,visit_id=visit_id,ccd_num=ccd)\n",
    "            hdul = fits.open(fitsPath)\n",
    "            seeing.append(hdul[0].header.get('DIMMSEE')) #FWHM in arcsec\n",
    "        except:\n",
    "            seeing.append('NaN')\n",
    "            # Open up the fits file of interest using the pre-defined filepath string\n",
    "\n",
    "    return(seeing)\n",
    "for pgNum in range(0,400):\n",
    "    Pointing_Groups[pgNum]['Seeing'] = getPSF(Pointing_Groups[pgNum],'/epyc/users/smotherh/DECAM_Data_Reduction/pointing_groups_hyak/Pointing_Group_{:03}'.format(pgNum))\n",
    "\n",
    "#pg.pickle_pointings(Pointing_Groups,filename='PickledPointingswSeeing.pkl')\n"
   ]
  },
  {
   "cell_type": "code",
   "execution_count": 3,
   "metadata": {},
   "outputs": [],
   "source": [
    "seeing_limit = 1.25\n",
    "good_seeing = []\n",
    "with open('PickledPointingswSeeing.pkl', 'rb') as f:\n",
    "    Pointing_Groups = pickle.load(f)\n",
    "\n",
    "for pg in Pointing_Groups[0:400]:\n",
    "    seeing = pg['Seeing'][~np.isnan(np.array(pg['Seeing']).astype(float))]\n",
    "    good_seeing.append(len(seeing[seeing<seeing_limit]))\n",
    "good_seeing = np.array(good_seeing)"
   ]
  },
  {
   "cell_type": "code",
   "execution_count": 10,
   "metadata": {},
   "outputs": [
    {
     "name": "stdout",
     "output_type": "stream",
     "text": [
      "57162.42540605324\n"
     ]
    }
   ],
   "source": [
    "import matplotlib.dates as mdates\n",
    "import datetime as dt\n",
    "from dateutil.parser import parse\n",
    "from astropy import time\n",
    "t = time.Time(Pointing_Groups[0]['date_obs'][0].decode())\n",
    "print(t.mjd)"
   ]
  },
  {
   "cell_type": "code",
   "execution_count": 12,
   "metadata": {},
   "outputs": [],
   "source": [
    "with open('/epyc/users/smotherh/LoriAllen/pointing_metadata/known_objects/allObjectData_2.pkl', 'rb') as f:\n",
    "    allObjectData = pickle.load(f)\n",
    "known_data = np.loadtxt('/epyc/projects2/smotherh/DECAM_Data_Reduction/pointing_groups_hyak/known_object_list.txt')\n",
    "known_format = \"pg{:03d}_ccd{:02d}\"\n",
    "known_object_pg = np.unique(np.array(known_data)[:,0]).astype(int)\n",
    "ccd_num = np.linspace(1,62,62).astype(int)\n",
    "ccd_num = ccd_num[(ccd_num!=2) & (ccd_num!=61) & (ccd_num!=31)]\n",
    "with open('link_reduce_first_night_known_objs.sh','w') as f:\n",
    "    for pg_num in known_object_pg:\n",
    "        pg = Pointing_Groups[pg_num]\n",
    "        init_t = time.Time(pg['date_obs'][0].decode())\n",
    "        #seeing_idx = np.where(pg['Seeing'][~np.isnan(np.array(pg['Seeing']).astype(float))]<seeing_limit)[0]\n",
    "        #print(len(seeing_idx))\n",
    "        f.write('mkdir /epyc/users/smotherh/DECAM_Data_Reduction/reduce_first_night_known_objs/{0:03}/\\n'.format(pg_num))\n",
    "        for ccd_idx in ccd_num:\n",
    "            f.write('mkdir /epyc/users/smotherh/DECAM_Data_Reduction/reduce_first_night_known_objs/{0:03}/{1:02}/\\n'.format(pg_num,ccd_idx))\n",
    "            for i, visit_id in enumerate(pg['visit_id']):\n",
    "                visit_time = time.Time(pg['date_obs'][i].decode())\n",
    "                if (visit_time.mjd-init_t.mjd > 1) or (i==0):\n",
    "                    f.write('ln -s /epyc/users/smotherh/DECAM_Data_Reduction/pointing_groups_hyak/Pointing_Group_{0:03}/warps/{1:02}/{2}.fits /epyc/users/smotherh/DECAM_Data_Reduction/reduce_first_night_known_objs/{0:03}/{1:02}/\\n'.format(pg_num,ccd_idx,visit_id))"
   ]
  },
  {
   "cell_type": "code",
   "execution_count": 51,
   "metadata": {},
   "outputs": [
    {
     "name": "stdout",
     "output_type": "stream",
     "text": [
      "18\n",
      "20\n",
      "20\n",
      "20\n",
      "20\n",
      "18\n",
      "18\n",
      "19\n",
      "16\n",
      "15\n",
      "17\n",
      "18\n",
      "19\n",
      "15\n",
      "14\n",
      "15\n",
      "15\n",
      "15\n",
      "14\n",
      "14\n",
      "17\n",
      "16\n",
      "19\n",
      "13\n",
      "11\n",
      "17\n",
      "13\n",
      "12\n",
      "0\n",
      "0\n",
      "0\n",
      "0\n",
      "0\n",
      "0\n"
     ]
    }
   ],
   "source": [
    "with open('/epyc/users/smotherh/LoriAllen/pointing_metadata/known_objects/allObjectData_2.pkl', 'rb') as f:\n",
    "    allObjectData = pickle.load(f)\n",
    "known_data = np.loadtxt('/epyc/projects2/smotherh/DECAM_Data_Reduction/pointing_groups_hyak/known_object_list.txt')\n",
    "known_format = \"pg{:03d}_ccd{:02d}\"\n",
    "known_object_pg = np.unique(np.array(known_data)[:,0]).astype(int)\n",
    "ccd_num = np.linspace(1,62,62).astype(int)\n",
    "ccd_num = ccd_num[(ccd_num!=2) & (ccd_num!=61) & (ccd_num!=31)]\n",
    "with open('link_seeing_known_objs.sh','w') as f:\n",
    "    for pg_num in known_object_pg:\n",
    "        pg = Pointing_Groups[pg_num]\n",
    "        seeing_idx = np.where(pg['Seeing'][~np.isnan(np.array(pg['Seeing']).astype(float))]<seeing_limit)[0]\n",
    "        print(len(seeing_idx))\n",
    "        f.write('mkdir /epyc/users/smotherh/DECAM_Data_Reduction/good_warps_known_objs/{0:03}/\\n'.format(pg_num))\n",
    "        for ccd_idx in ccd_num:\n",
    "            f.write('mkdir /epyc/users/smotherh/DECAM_Data_Reduction/good_warps_known_objs/{0:03}/{1:02}/\\n'.format(pg_num,ccd_idx))\n",
    "            for idx in seeing_idx:\n",
    "                visit_id = pg['visit_id'][idx]\n",
    "                f.write('ln -s /epyc/users/smotherh/DECAM_Data_Reduction/pointing_groups_hyak/Pointing_Group_{0:03}/warps/{1:02}/{2}.fits /epyc/users/smotherh/DECAM_Data_Reduction/good_warps_known_objs/{0:03}/{1:02}/\\n'.format(pg_num,ccd_idx,visit_id))"
   ]
  },
  {
   "cell_type": "code",
   "execution_count": 21,
   "metadata": {},
   "outputs": [],
   "source": [
    "good_pointing_groups = np.where(good_seeing>=20)[0]\n",
    "\n",
    "ccd_num = np.linspace(1,62,62).astype(int)\n",
    "ccd_num = ccd_num[(ccd_num!=2) & (ccd_num!=61) & (ccd_num!=31)]\n",
    "with open('link_good_seeing.sh','w') as f:\n",
    "    for pgidx in good_pointing_groups:\n",
    "        pg = Pointing_Groups[pgidx]\n",
    "        seeing_idx = np.where(pg['Seeing'][~np.isnan(np.array(pg['Seeing']).astype(float))]<seeing_limit)[0]\n",
    "        for ccd_idx in ccd_num:\n",
    "            for idx in seeing_idx:\n",
    "                visit_id = Pointing_Groups[pgidx]['visit_id'][idx]\n",
    "                f.write('ln -s ~/pylon_home/warps/{0:03}/{1:02}/{2}.fits ~/pylon_home/good_warps/{0:03}/{1:02}/\\n'.format(pgidx,ccd_idx,visit_id))"
   ]
  },
  {
   "cell_type": "code",
   "execution_count": 129,
   "metadata": {},
   "outputs": [],
   "source": [
    "good_pointing_groups = np.where(good_seeing>=20)[0]\n",
    "#root_dir = '/epyc/users/smotherh/DECAM_Data_Reduction/pointing_groups_hyak/Pointing_Group_{:03}/'\n",
    "root_dir = '/gscratch/scrubbed/smotherh/pointing_groups/Pointing_Group_{:03}/'\n",
    "with open(\"erase_intermediate_steps_hyak.sh\".format(point=pg),\"w\") as f:\n",
    "    for pgNum in range(0,500):\n",
    "        if (good_pointing_groups!=pgNum).all():\n",
    "            f.write('echo \"Erasing processed data for Pointing Group {:03}\"\\n'.format(pgNum))\n",
    "            f.write('rm -rf '+root_dir.format(pgNum)+'processed_data\\n')"
   ]
  },
  {
   "cell_type": "code",
   "execution_count": 130,
   "metadata": {},
   "outputs": [],
   "source": [
    "root_dir = '/epyc/users/smotherh/DECAM_Data_Reduction/pointing_groups_hyak/Pointing_Group_{:03}/warps/*'\n",
    "dest_dir = '/epyc/users/smotherh/DECAM_Data_Reduction/good_warps/{:03}/'\n",
    "with open(\"link_warps.sh\".format(point=pg),\"w\") as f:\n",
    "    for pgNum in good_pointing_groups:\n",
    "        f.write('mkdir '+dest_dir.format(pgNum)+'\\n')\n",
    "        f.write('ln -s '+root_dir.format(pgNum)+' '+dest_dir.format(pgNum)+'\\n')"
   ]
  },
  {
   "cell_type": "code",
   "execution_count": 48,
   "metadata": {},
   "outputs": [
    {
     "data": {
      "image/png": "[encoded data removed]",
      "text/plain": [
       "<Figure size 432x288 with 1 Axes>"
      ]
     },
     "metadata": {},
     "output_type": "display_data"
    }
   ],
   "source": [
    "max_seeing = []\n",
    "for pg in Pointing_Groups[0:300]:\n",
    "    if np.sum(np.isnan(np.array(pg['Seeing']).astype(float))) == len(pg['Seeing']):\n",
    "        max_seeing.append(5)\n",
    "    else:\n",
    "        max_seeing.append(np.max(pg['Seeing'][~np.isnan(np.array(pg['Seeing']).astype(float))]))\n",
    "_ = plt.hist(max_seeing)"
   ]
  },
  {
   "cell_type": "code",
   "execution_count": 63,
   "metadata": {},
   "outputs": [
    {
     "data": {
      "text/plain": [
       "(array([ 34,  35,  36,  61,  62,  63,  64,  65,  66,  67,  69,  70,  73,\n",
       "         76,  77,  78,  79,  82,  86,  95, 180, 181, 183, 185, 186, 187,\n",
       "        188, 189, 190, 191, 192, 193, 194, 195, 196, 197, 202, 203, 204,\n",
       "        205, 224, 225, 226, 227, 228, 229, 230, 231, 232, 233, 234, 235,\n",
       "        236, 237, 238, 239, 240, 241, 242, 243, 244, 245, 246, 247, 252,\n",
       "        256, 257, 258, 259, 264, 265, 266, 267, 284, 285, 287, 288, 289,\n",
       "        290, 291, 292, 293, 294, 295, 296, 297, 298]),)"
      ]
     },
     "execution_count": 63,
     "metadata": {},
     "output_type": "execute_result"
    }
   ],
   "source": [
    "max_seeing = np.array(max_seeing)\n",
    "np.where(max_seeing<1.3)"
   ]
  },
  {
   "cell_type": "code",
   "execution_count": 60,
   "metadata": {},
   "outputs": [
    {
     "data": {
      "text/html": [
       "<div>\n",
       "<style scoped>\n",
       "    .dataframe tbody tr th:only-of-type {\n",
       "        vertical-align: middle;\n",
       "    }\n",
       "\n",
       "    .dataframe tbody tr th {\n",
       "        vertical-align: top;\n",
       "    }\n",
       "\n",
       "    .dataframe thead th {\n",
       "        text-align: right;\n",
       "    }\n",
       "</style>\n",
       "<table border=\"1\" class=\"dataframe\">\n",
       "  <thead>\n",
       "    <tr style=\"text-align: right;\">\n",
       "      <th></th>\n",
       "      <th>visit_id</th>\n",
       "      <th>date_obs</th>\n",
       "      <th>ra</th>\n",
       "      <th>dec</th>\n",
       "      <th>filename</th>\n",
       "      <th>survey_night</th>\n",
       "      <th>stellar_density</th>\n",
       "      <th>Seeing</th>\n",
       "    </tr>\n",
       "  </thead>\n",
       "  <tbody>\n",
       "    <tr>\n",
       "      <th>0</th>\n",
       "      <td>438701</td>\n",
       "      <td>b'2015-05-20 02:01:23.368'</td>\n",
       "      <td>228.453542</td>\n",
       "      <td>-27.287944</td>\n",
       "      <td>b'c4d_150520_020254_ooi_VR_v2.fits.fz'</td>\n",
       "      <td>20</td>\n",
       "      <td>5975.0</td>\n",
       "      <td>0.822</td>\n",
       "    </tr>\n",
       "    <tr>\n",
       "      <th>1</th>\n",
       "      <td>438705</td>\n",
       "      <td>b'2015-05-20 02:05:57.128'</td>\n",
       "      <td>228.453417</td>\n",
       "      <td>-27.289083</td>\n",
       "      <td>b'c4d_150520_020728_ooi_VR_v2.fits.fz'</td>\n",
       "      <td>20</td>\n",
       "      <td>5975.0</td>\n",
       "      <td>0.769</td>\n",
       "    </tr>\n",
       "    <tr>\n",
       "      <th>2</th>\n",
       "      <td>438709</td>\n",
       "      <td>b'2015-05-20 02:10:32.308'</td>\n",
       "      <td>228.453833</td>\n",
       "      <td>-27.288694</td>\n",
       "      <td>b'c4d_150520_021203_ooi_VR_v2.fits.fz'</td>\n",
       "      <td>20</td>\n",
       "      <td>5975.0</td>\n",
       "      <td>0.573</td>\n",
       "    </tr>\n",
       "    <tr>\n",
       "      <th>3</th>\n",
       "      <td>438713</td>\n",
       "      <td>b'2015-05-20 02:15:07.17'</td>\n",
       "      <td>228.452792</td>\n",
       "      <td>-27.289028</td>\n",
       "      <td>b'c4d_150520_021637_ooi_VR_v2.fits.fz'</td>\n",
       "      <td>20</td>\n",
       "      <td>5975.0</td>\n",
       "      <td>0.634</td>\n",
       "    </tr>\n",
       "    <tr>\n",
       "      <th>4</th>\n",
       "      <td>438717</td>\n",
       "      <td>b'2015-05-20 02:19:42.179'</td>\n",
       "      <td>228.453792</td>\n",
       "      <td>-27.289167</td>\n",
       "      <td>b'c4d_150520_022111_ooi_VR_v2.fits.fz'</td>\n",
       "      <td>20</td>\n",
       "      <td>5975.0</td>\n",
       "      <td>0.753</td>\n",
       "    </tr>\n",
       "    <tr>\n",
       "      <th>5</th>\n",
       "      <td>439352</td>\n",
       "      <td>b'2015-05-21 02:11:47.209'</td>\n",
       "      <td>228.450208</td>\n",
       "      <td>-27.287528</td>\n",
       "      <td>b'c4d_150521_021317_ooi_VR_v1.fits.fz'</td>\n",
       "      <td>21</td>\n",
       "      <td>5975.0</td>\n",
       "      <td>0.987</td>\n",
       "    </tr>\n",
       "    <tr>\n",
       "      <th>6</th>\n",
       "      <td>439356</td>\n",
       "      <td>b'2015-05-21 02:16:22.883'</td>\n",
       "      <td>228.450167</td>\n",
       "      <td>-27.287028</td>\n",
       "      <td>b'c4d_150521_021750_ooi_VR_v1.fits.fz'</td>\n",
       "      <td>21</td>\n",
       "      <td>5975.0</td>\n",
       "      <td>0.966</td>\n",
       "    </tr>\n",
       "    <tr>\n",
       "      <th>7</th>\n",
       "      <td>439360</td>\n",
       "      <td>b'2015-05-21 02:20:56.252'</td>\n",
       "      <td>228.449833</td>\n",
       "      <td>-27.287417</td>\n",
       "      <td>b'c4d_150521_022228_ooi_VR_v1.fits.fz'</td>\n",
       "      <td>21</td>\n",
       "      <td>5975.0</td>\n",
       "      <td>0.777</td>\n",
       "    </tr>\n",
       "    <tr>\n",
       "      <th>8</th>\n",
       "      <td>439364</td>\n",
       "      <td>b'2015-05-21 02:25:30.037'</td>\n",
       "      <td>228.450583</td>\n",
       "      <td>-27.287278</td>\n",
       "      <td>b'c4d_150521_022658_ooi_VR_v1.fits.fz'</td>\n",
       "      <td>21</td>\n",
       "      <td>5975.0</td>\n",
       "      <td>0.79</td>\n",
       "    </tr>\n",
       "    <tr>\n",
       "      <th>9</th>\n",
       "      <td>439368</td>\n",
       "      <td>b'2015-05-21 02:30:03.462'</td>\n",
       "      <td>228.449833</td>\n",
       "      <td>-27.286806</td>\n",
       "      <td>b'c4d_150521_023132_ooi_VR_v1.fits.fz'</td>\n",
       "      <td>21</td>\n",
       "      <td>5975.0</td>\n",
       "      <td>0.846</td>\n",
       "    </tr>\n",
       "    <tr>\n",
       "      <th>10</th>\n",
       "      <td>440114</td>\n",
       "      <td>b'2015-05-22 04:06:30.463'</td>\n",
       "      <td>228.449333</td>\n",
       "      <td>-27.292556</td>\n",
       "      <td>b'c4d_150522_040801_ooi_VR_v1.fits.fz'</td>\n",
       "      <td>22</td>\n",
       "      <td>5975.0</td>\n",
       "      <td>NaN</td>\n",
       "    </tr>\n",
       "    <tr>\n",
       "      <th>11</th>\n",
       "      <td>440118</td>\n",
       "      <td>b'2015-05-22 04:11:15.383'</td>\n",
       "      <td>228.450250</td>\n",
       "      <td>-27.291972</td>\n",
       "      <td>b'c4d_150522_041246_ooi_VR_v1.fits.fz'</td>\n",
       "      <td>22</td>\n",
       "      <td>5975.0</td>\n",
       "      <td>NaN</td>\n",
       "    </tr>\n",
       "    <tr>\n",
       "      <th>12</th>\n",
       "      <td>440122</td>\n",
       "      <td>b'2015-05-22 04:15:56.115'</td>\n",
       "      <td>228.449583</td>\n",
       "      <td>-27.291250</td>\n",
       "      <td>b'c4d_150522_041726_ooi_VR_v1.fits.fz'</td>\n",
       "      <td>22</td>\n",
       "      <td>5975.0</td>\n",
       "      <td>NaN</td>\n",
       "    </tr>\n",
       "    <tr>\n",
       "      <th>13</th>\n",
       "      <td>440126</td>\n",
       "      <td>b'2015-05-22 04:20:35.755'</td>\n",
       "      <td>228.447583</td>\n",
       "      <td>-27.289889</td>\n",
       "      <td>b'c4d_150522_042204_ooi_VR_v1.fits.fz'</td>\n",
       "      <td>22</td>\n",
       "      <td>5975.0</td>\n",
       "      <td>NaN</td>\n",
       "    </tr>\n",
       "    <tr>\n",
       "      <th>14</th>\n",
       "      <td>440130</td>\n",
       "      <td>b'2015-05-22 04:25:15.465'</td>\n",
       "      <td>228.447583</td>\n",
       "      <td>-27.291083</td>\n",
       "      <td>b'c4d_150522_042647_ooi_VR_v1.fits.fz'</td>\n",
       "      <td>22</td>\n",
       "      <td>5975.0</td>\n",
       "      <td>NaN</td>\n",
       "    </tr>\n",
       "    <tr>\n",
       "      <th>15</th>\n",
       "      <td>440710</td>\n",
       "      <td>b'2015-05-23 02:00:57.431'</td>\n",
       "      <td>228.449833</td>\n",
       "      <td>-27.287139</td>\n",
       "      <td>b'c4d_150523_020225_ooi_VR_v1.fits.fz'</td>\n",
       "      <td>23</td>\n",
       "      <td>5975.0</td>\n",
       "      <td>NaN</td>\n",
       "    </tr>\n",
       "    <tr>\n",
       "      <th>16</th>\n",
       "      <td>440714</td>\n",
       "      <td>b'2015-05-23 02:05:34.721'</td>\n",
       "      <td>228.450167</td>\n",
       "      <td>-27.286528</td>\n",
       "      <td>b'c4d_150523_020703_ooi_VR_v1.fits.fz'</td>\n",
       "      <td>23</td>\n",
       "      <td>5975.0</td>\n",
       "      <td>0.759</td>\n",
       "    </tr>\n",
       "    <tr>\n",
       "      <th>17</th>\n",
       "      <td>440718</td>\n",
       "      <td>b'2015-05-23 02:10:08.653'</td>\n",
       "      <td>228.449208</td>\n",
       "      <td>-27.286472</td>\n",
       "      <td>b'c4d_150523_021139_ooi_VR_v1.fits.fz'</td>\n",
       "      <td>23</td>\n",
       "      <td>5975.0</td>\n",
       "      <td>0.921</td>\n",
       "    </tr>\n",
       "    <tr>\n",
       "      <th>18</th>\n",
       "      <td>440722</td>\n",
       "      <td>b'2015-05-23 02:14:43.465'</td>\n",
       "      <td>228.449875</td>\n",
       "      <td>-27.286917</td>\n",
       "      <td>b'c4d_150523_021614_ooi_VR_v1.fits.fz'</td>\n",
       "      <td>23</td>\n",
       "      <td>5975.0</td>\n",
       "      <td>0.67</td>\n",
       "    </tr>\n",
       "    <tr>\n",
       "      <th>19</th>\n",
       "      <td>440726</td>\n",
       "      <td>b'2015-05-23 02:19:18.699'</td>\n",
       "      <td>228.450458</td>\n",
       "      <td>-27.286833</td>\n",
       "      <td>b'c4d_150523_022046_ooi_VR_v1.fits.fz'</td>\n",
       "      <td>23</td>\n",
       "      <td>5975.0</td>\n",
       "      <td>0.735</td>\n",
       "    </tr>\n",
       "    <tr>\n",
       "      <th>20</th>\n",
       "      <td>441346</td>\n",
       "      <td>b'2015-05-24 02:00:44.694'</td>\n",
       "      <td>228.452542</td>\n",
       "      <td>-27.288139</td>\n",
       "      <td>b'c4d_150524_020215_ooi_VR_v1.fits.fz'</td>\n",
       "      <td>24</td>\n",
       "      <td>5975.0</td>\n",
       "      <td>0.582</td>\n",
       "    </tr>\n",
       "    <tr>\n",
       "      <th>21</th>\n",
       "      <td>441350</td>\n",
       "      <td>b'2015-05-24 02:05:17.504'</td>\n",
       "      <td>228.451375</td>\n",
       "      <td>-27.287667</td>\n",
       "      <td>b'c4d_150524_020646_ooi_VR_v1.fits.fz'</td>\n",
       "      <td>24</td>\n",
       "      <td>5975.0</td>\n",
       "      <td>0.593</td>\n",
       "    </tr>\n",
       "    <tr>\n",
       "      <th>22</th>\n",
       "      <td>441354</td>\n",
       "      <td>b'2015-05-24 02:09:51.714'</td>\n",
       "      <td>228.450833</td>\n",
       "      <td>-27.287583</td>\n",
       "      <td>b'c4d_150524_021121_ooi_VR_v1.fits.fz'</td>\n",
       "      <td>24</td>\n",
       "      <td>5975.0</td>\n",
       "      <td>0.551</td>\n",
       "    </tr>\n",
       "    <tr>\n",
       "      <th>23</th>\n",
       "      <td>441358</td>\n",
       "      <td>b'2015-05-24 02:14:24.415'</td>\n",
       "      <td>228.452167</td>\n",
       "      <td>-27.287667</td>\n",
       "      <td>b'c4d_150524_021553_ooi_VR_v1.fits.fz'</td>\n",
       "      <td>24</td>\n",
       "      <td>5975.0</td>\n",
       "      <td>0.532</td>\n",
       "    </tr>\n",
       "    <tr>\n",
       "      <th>24</th>\n",
       "      <td>441362</td>\n",
       "      <td>b'2015-05-24 02:18:57.945'</td>\n",
       "      <td>228.452000</td>\n",
       "      <td>-27.287528</td>\n",
       "      <td>b'c4d_150524_022028_ooi_VR_v1.fits.fz'</td>\n",
       "      <td>24</td>\n",
       "      <td>5975.0</td>\n",
       "      <td>0.482</td>\n",
       "    </tr>\n",
       "  </tbody>\n",
       "</table>\n",
       "</div>"
      ],
      "text/plain": [
       "    visit_id                    date_obs          ra        dec  \\\n",
       "0     438701  b'2015-05-20 02:01:23.368'  228.453542 -27.287944   \n",
       "1     438705  b'2015-05-20 02:05:57.128'  228.453417 -27.289083   \n",
       "2     438709  b'2015-05-20 02:10:32.308'  228.453833 -27.288694   \n",
       "3     438713   b'2015-05-20 02:15:07.17'  228.452792 -27.289028   \n",
       "4     438717  b'2015-05-20 02:19:42.179'  228.453792 -27.289167   \n",
       "5     439352  b'2015-05-21 02:11:47.209'  228.450208 -27.287528   \n",
       "6     439356  b'2015-05-21 02:16:22.883'  228.450167 -27.287028   \n",
       "7     439360  b'2015-05-21 02:20:56.252'  228.449833 -27.287417   \n",
       "8     439364  b'2015-05-21 02:25:30.037'  228.450583 -27.287278   \n",
       "9     439368  b'2015-05-21 02:30:03.462'  228.449833 -27.286806   \n",
       "10    440114  b'2015-05-22 04:06:30.463'  228.449333 -27.292556   \n",
       "11    440118  b'2015-05-22 04:11:15.383'  228.450250 -27.291972   \n",
       "12    440122  b'2015-05-22 04:15:56.115'  228.449583 -27.291250   \n",
       "13    440126  b'2015-05-22 04:20:35.755'  228.447583 -27.289889   \n",
       "14    440130  b'2015-05-22 04:25:15.465'  228.447583 -27.291083   \n",
       "15    440710  b'2015-05-23 02:00:57.431'  228.449833 -27.287139   \n",
       "16    440714  b'2015-05-23 02:05:34.721'  228.450167 -27.286528   \n",
       "17    440718  b'2015-05-23 02:10:08.653'  228.449208 -27.286472   \n",
       "18    440722  b'2015-05-23 02:14:43.465'  228.449875 -27.286917   \n",
       "19    440726  b'2015-05-23 02:19:18.699'  228.450458 -27.286833   \n",
       "20    441346  b'2015-05-24 02:00:44.694'  228.452542 -27.288139   \n",
       "21    441350  b'2015-05-24 02:05:17.504'  228.451375 -27.287667   \n",
       "22    441354  b'2015-05-24 02:09:51.714'  228.450833 -27.287583   \n",
       "23    441358  b'2015-05-24 02:14:24.415'  228.452167 -27.287667   \n",
       "24    441362  b'2015-05-24 02:18:57.945'  228.452000 -27.287528   \n",
       "\n",
       "                                  filename  survey_night  stellar_density  \\\n",
       "0   b'c4d_150520_020254_ooi_VR_v2.fits.fz'            20           5975.0   \n",
       "1   b'c4d_150520_020728_ooi_VR_v2.fits.fz'            20           5975.0   \n",
       "2   b'c4d_150520_021203_ooi_VR_v2.fits.fz'            20           5975.0   \n",
       "3   b'c4d_150520_021637_ooi_VR_v2.fits.fz'            20           5975.0   \n",
       "4   b'c4d_150520_022111_ooi_VR_v2.fits.fz'            20           5975.0   \n",
       "5   b'c4d_150521_021317_ooi_VR_v1.fits.fz'            21           5975.0   \n",
       "6   b'c4d_150521_021750_ooi_VR_v1.fits.fz'            21           5975.0   \n",
       "7   b'c4d_150521_022228_ooi_VR_v1.fits.fz'            21           5975.0   \n",
       "8   b'c4d_150521_022658_ooi_VR_v1.fits.fz'            21           5975.0   \n",
       "9   b'c4d_150521_023132_ooi_VR_v1.fits.fz'            21           5975.0   \n",
       "10  b'c4d_150522_040801_ooi_VR_v1.fits.fz'            22           5975.0   \n",
       "11  b'c4d_150522_041246_ooi_VR_v1.fits.fz'            22           5975.0   \n",
       "12  b'c4d_150522_041726_ooi_VR_v1.fits.fz'            22           5975.0   \n",
       "13  b'c4d_150522_042204_ooi_VR_v1.fits.fz'            22           5975.0   \n",
       "14  b'c4d_150522_042647_ooi_VR_v1.fits.fz'            22           5975.0   \n",
       "15  b'c4d_150523_020225_ooi_VR_v1.fits.fz'            23           5975.0   \n",
       "16  b'c4d_150523_020703_ooi_VR_v1.fits.fz'            23           5975.0   \n",
       "17  b'c4d_150523_021139_ooi_VR_v1.fits.fz'            23           5975.0   \n",
       "18  b'c4d_150523_021614_ooi_VR_v1.fits.fz'            23           5975.0   \n",
       "19  b'c4d_150523_022046_ooi_VR_v1.fits.fz'            23           5975.0   \n",
       "20  b'c4d_150524_020215_ooi_VR_v1.fits.fz'            24           5975.0   \n",
       "21  b'c4d_150524_020646_ooi_VR_v1.fits.fz'            24           5975.0   \n",
       "22  b'c4d_150524_021121_ooi_VR_v1.fits.fz'            24           5975.0   \n",
       "23  b'c4d_150524_021553_ooi_VR_v1.fits.fz'            24           5975.0   \n",
       "24  b'c4d_150524_022028_ooi_VR_v1.fits.fz'            24           5975.0   \n",
       "\n",
       "   Seeing  \n",
       "0   0.822  \n",
       "1   0.769  \n",
       "2   0.573  \n",
       "3   0.634  \n",
       "4   0.753  \n",
       "5   0.987  \n",
       "6   0.966  \n",
       "7   0.777  \n",
       "8    0.79  \n",
       "9   0.846  \n",
       "10    NaN  \n",
       "11    NaN  \n",
       "12    NaN  \n",
       "13    NaN  \n",
       "14    NaN  \n",
       "15    NaN  \n",
       "16  0.759  \n",
       "17  0.921  \n",
       "18   0.67  \n",
       "19  0.735  \n",
       "20  0.582  \n",
       "21  0.593  \n",
       "22  0.551  \n",
       "23  0.532  \n",
       "24  0.482  "
      ]
     },
     "execution_count": 60,
     "metadata": {},
     "output_type": "execute_result"
    }
   ],
   "source": [
    "Pointing_Groups[78]"
   ]
  },
  {
   "cell_type": "code",
   "execution_count": 77,
   "metadata": {},
   "outputs": [
    {
     "name": "stdout",
     "output_type": "stream",
     "text": [
      "26.674278448086458\n"
     ]
    }
   ],
   "source": [
    "import numpy as np\n",
    "\n",
    "def distHModulus(d_BO):\n",
    "    # Only valid at opposition\n",
    "    return(5*np.log10(d_BO*(d_BO-1)))\n",
    "\n",
    "def planetaryPhaseFunction(angle):\n",
    "    # Approximation to the phase function. Assumes an ideal diffuse reflecting sphere\n",
    "    return(2/3*(1-angle/np.pi)*np.cos(angle)+1/np.pi*np.sin(angle))\n",
    "\n",
    "def asteroidPhaseFunction(angle,G):\n",
    "    # Approximation to the phase function. Uses HG asteroidal model\n",
    "\n",
    "    return((1-G)*phiFunction(angle,1)+G*phiFunction(angle,2))\n",
    "\n",
    "def phiFunction(angle,i):\n",
    "    # phi function for HG asteroidal model\n",
    "    if i==1:\n",
    "        A = 3.332\n",
    "        B = 0.631\n",
    "    elif i==2:\n",
    "        A = 1.862\n",
    "        B = 1.218\n",
    "    else:\n",
    "        print('Error! Select i=1 or i=2')\n",
    "        return()\n",
    "    \n",
    "    return(np.exp(-A*np.tan(angle/2)**B))\n",
    "\n",
    "def apparentMag(H,G,distance,phase_angle):\n",
    "    # Apparent magnitude for a Solar System object given H and distance\n",
    "    return(H + distHModulus(distance) - 2.5 * np.log10(asteroidPhaseFunction(phase_angle,G)))\n",
    "\n",
    "print(apparentMag(10,0.15,47,0))"
   ]
  },
  {
   "cell_type": "code",
   "execution_count": 22,
   "metadata": {},
   "outputs": [
    {
     "name": "stdout",
     "output_type": "stream",
     "text": [
      "This KBO binary has an angular resolution of about 0.752070036881747 arcsec\n"
     ]
    }
   ],
   "source": [
    "import astropy.units as u\n",
    "import numpy as np\n",
    "#Find the angular resolution of a KBO binary\n",
    "\n",
    "radius = 54 * u.km #Radius of the binary\n",
    "a_div_RH = 0.05 #a/R_h value for the binary. Typical values are < 0.07. 0 is a contact binary.\n",
    "\n",
    "a_sun = 44 * u.au\n",
    "rho = (3*u.g/u.cm**3)\n",
    "m = rho * (4/3*np.pi*radius**3)\n",
    "e_sun = 0.02\n",
    "m_sun = 2*10**30*u.kg\n",
    "RH = a_sun*(1-e_sun)*(m/(3*m_sun))**(1/3)\n",
    "a_bin = a_div_RH * RH\n",
    "a_bin = 24000 * u.km\n",
    "angle = a_bin.to(u.au) / a_sun * u.rad\n",
    "\n",
    "print('This KBO binary has an angular resolution of about {}'.format(angle.to(u.arcsec)))"
   ]
  },
  {
   "cell_type": "code",
   "execution_count": 81,
   "metadata": {},
   "outputs": [
    {
     "data": {
      "text/plain": [
       "0.3884939990029484"
      ]
     },
     "execution_count": 81,
     "metadata": {},
     "output_type": "execute_result"
    }
   ],
   "source": [
    "np.sqrt(np.sin(21*np.pi/180)**2+.15**2)"
   ]
  },
  {
   "cell_type": "code",
   "execution_count": 23,
   "metadata": {},
   "outputs": [
    {
     "data": {
      "text/plain": [
       "0.3111111111111111"
      ]
     },
     "execution_count": 23,
     "metadata": {},
     "output_type": "execute_result"
    }
   ],
   "source": [
    "# Binary semi-major axis for known TNO binaries (km) (Noll 2018)\n",
    "binary_a = np.array([11374,1580,13330,4750,8220,2500,1850,4530,2770,27600,9000,4090,5720,2370,2270,\n",
    "            37270,9900,7800,26800,4810,6040,9960,20990,33000,6670,1590,7700,6940,3030,22620,\n",
    "            3310,3400,34300,4990,3810,102100,9310,22400,8550,3830,54000,10400,69000,25400,\n",
    "            27000])\n",
    "len(binary_a[binary_a>24000/2])/len(binary_a)"
   ]
  },
  {
   "cell_type": "code",
   "execution_count": 19,
   "metadata": {},
   "outputs": [
    {
     "data": {
      "text/plain": [
       "11000.0"
      ]
     },
     "execution_count": 19,
     "metadata": {},
     "output_type": "execute_result"
    }
   ],
   "source": [
    "22000/2"
   ]
  },
  {
   "cell_type": "code",
   "execution_count": null,
   "metadata": {},
   "outputs": [],
   "source": []
  }
 ],
 "metadata": {
  "anaconda-cloud": {},
  "kernelspec": {
   "display_name": "Python 3",
   "language": "python",
   "name": "python3"
  },
  "language_info": {
   "codemirror_mode": {
    "name": "ipython",
    "version": 3
   },
   "file_extension": ".py",
   "mimetype": "text/x-python",
   "name": "python",
   "nbconvert_exporter": "python",
   "pygments_lexer": "ipython3",
   "version": "3.7.6"
  }
 },
 "nbformat": 4,
 "nbformat_minor": 4
}
