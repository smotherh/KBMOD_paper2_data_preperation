{
 "cells": [
  {
   "cell_type": "code",
   "execution_count": 86,
   "metadata": {},
   "outputs": [],
   "source": [
    "from astroquery.jplhorizons import Horizons\n",
    "import numpy as np\n",
    "import pickle\n",
    "import matplotlib.pyplot as plt\n",
    "import pandas as pd\n",
    "import multiprocessing as mp\n",
    "import os\n",
    "import healpy as hp\n",
    "import requests\n",
    "\n",
    "from astropy import units as u\n",
    "from astropy.coordinates import SkyCoord\n",
    "from astropy.time import Time\n",
    "from astropy.io.votable import parse\n",
    "from astropy.io import fits\n",
    "from astropy.wcs import WCS\n",
    "from astropy.wcs import NoConvergence\n",
    "from astropy.table import Table, vstack\n",
    "\n",
    "#from queryMPC import runMPCRequests\n",
    "#from queryMPC import matchSingleVisit\n",
    "#from plottingTools import makeStamps\n",
    "\n",
    "pd.options.mode.chained_assignment = None  # default='warn'"
   ]
  },
  {
   "cell_type": "code",
   "execution_count": 209,
   "metadata": {},
   "outputs": [],
   "source": [
    "from astroquery.imcce import Skybot\n",
    "from astropy.coordinates import SkyCoord\n",
    "from astropy.time import Time\n",
    "import astropy.units as u\n",
    "import pickle\n",
    "import numpy as np\n",
    "\n",
    "with open('A0b.pkl', 'rb') as f:\n",
    "    PointingGroups = pickle.load(f)\n",
    "PointingGroups.drop_duplicates('visit_id',inplace=True)\n",
    "df = PointingGroups\n",
    "allTimes = []\n",
    "for i in range(len(PointingGroups)):\n",
    "    date_obs = df['date_obs'].iloc[i].decode()#[2:-1]\n",
    "    time_obj = Time(date_obs, format='iso', scale='utc')\n",
    "    allTimes.append(time_obj.jd)\n",
    "allTimes = np.array(allTimes)\n",
    "timesMask = np.logical_and(allTimes>2458576.714,allTimes<2458577.70862527)\n",
    "times = allTimes\n",
    "\n",
    "ra = PointingGroups['ra'].values[timesMask]\n",
    "dec = PointingGroups['dec'].values[timesMask]\n",
    "i=0\n",
    "#field = SkyCoord(ra[i]*u.deg, ra[i]*u.deg)\n",
    "field = (ra[i],dec[i])\n",
    "epoch = Time(times[i], format='jd')\n",
    "Results = Skybot.cone_search(field, 90*u.arcmin, epoch, location='W84')"
   ]
  },
  {
   "cell_type": "code",
   "execution_count": 210,
   "metadata": {},
   "outputs": [
    {
     "name": "stdout",
     "output_type": "stream",
     "text": [
      "   Name            RA                 DEC          V  \n",
      "                  deg                 deg         mag \n",
      "---------- ------------------ ------------------- ----\n",
      "2013 GT136 216.49535749999998 -13.834343333333335 24.4\n",
      " 2003 HZ56 215.31171416666663 -13.113056666666667 24.0\n",
      " 2003 HY56 215.91163374999996 -14.367439444444445 24.2\n",
      " 1999 HY11 215.00079458333332  -14.10660611111111 24.4\n",
      " 2003 HC57 216.14113624999996 -14.651348055555555 22.2\n"
     ]
    }
   ],
   "source": [
    "RA_rate = Results['RA_rate']\n",
    "DEC_rate = Results['DEC_rate']\n",
    "pixel = u.arcsec/.26\n",
    "RA_rate = RA_rate.to(pixel/u.day)\n",
    "DEC_rate = DEC_rate.to(pixel/u.day)\n",
    "\n",
    "totalRate = np.linalg.norm([RA_rate,DEC_rate],axis=0)\n",
    "Type = np.array([classtype[0:3] for classtype in np.array(Results['Type'])])\n",
    "print(Results[Type=='KBO']['Name','RA','DEC','V'])"
   ]
  },
  {
   "cell_type": "code",
   "execution_count": 156,
   "metadata": {},
   "outputs": [
    {
     "name": "stderr",
     "output_type": "stream",
     "text": [
      "/epyc/opt/anaconda/lib/python3.6/site-packages/astroquery/jplhorizons/core.py:598: UserWarning: The URI used in this query is very long and might have been truncated. The results of the query might be compromised. If you queried a list of epochs, consider querying a range.\n",
      "  warnings.warn(('The URI used in this query is very long '\n"
     ]
    }
   ],
   "source": [
    "with open('A0b.pkl', 'rb') as f:\n",
    "    PointingGroups = pickle.load(f)\n",
    "PointingGroups.drop_duplicates('visit_id',inplace=True)\n",
    "df = PointingGroups\n",
    "allTimes = []\n",
    "for i in range(len(PointingGroups)):\n",
    "    date_obs = df['date_obs'].iloc[i].decode()#[2:-1]\n",
    "    time_obj = Time(date_obs, format='iso', scale='utc')\n",
    "    allTimes.append(time_obj.jd)\n",
    "allTimes = np.array(allTimes)\n",
    "timesMask = np.logical_and(allTimes>2458576.714,allTimes<2458577.70862527)\n",
    "times = allTimes\n",
    "obj = Horizons(id='2013 GT136', location='W84', epochs=times) #ccd 43\n",
    "#bj = Horizons(id='2003 HZ56', location='W84', epochs=times)\n",
    "#obj = Horizons(id='2003 HY56', location='W84', epochs=times) #ccd 58\n",
    "#obj = Horizons(id='2003 HC57', location='W84', epochs=times)\n",
    "#obj = Horizons(id='1999 HY11', location='W84', epochs=times) #ccd 57\n",
    "orbits = obj.ephemerides(quantities='1, 9')\n",
    "orbits['visit'] = [int(visit) for visit in df['visit_id']]\n",
    "orbits['x_pixel'] = -99\n",
    "orbits['y_pixel'] = -99\n",
    "orbits['ccd'] = -99\n",
    "orbits['times'] = times\n",
    "visitMask = [np.logical_and(orbits['visit']>=845580,orbits['visit']<=845682)]\n",
    "orbits = orbits[visitMask]"
   ]
  },
  {
   "cell_type": "code",
   "execution_count": 159,
   "metadata": {},
   "outputs": [
    {
     "name": "stdout",
     "output_type": "stream",
     "text": [
      "Processed visit 845618\n",
      "Processed visit 845590\n",
      "Processed visit 845582\n",
      "Processed visit 845586\n",
      "Processed visit 845616\n",
      "Processed visit 845606\n",
      "Processed visit 845588\n",
      "Processed visit 845610\n",
      "Processed visit 845600\n",
      "Processed visit 845614\n",
      "Processed visit 845591\n",
      "Processed visit 845608\n",
      "Processed visit 845592\n",
      "Processed visit 845594\n",
      "Processed visit 845584\n",
      "Processed visit 845619\n",
      "Processed visit 845598\n",
      "Processed visit 845604\n",
      "Processed visit 845602\n",
      "Processed visit 845596\n",
      "Processed visit 845580\n",
      "Processed visit 845612\n",
      "Processed visit 845587\n",
      "Processed visit 845583\n",
      "Processed visit 845620\n",
      "Processed visit 845589\n",
      "Processed visit 845617\n",
      "Processed visit 845607\n",
      "Processed visit 845593\n",
      "Processed visit 845599\n",
      "Processed visit 845622\n",
      "Processed visit 845615\n",
      "Processed visit 845581\n",
      "Processed visit 845597\n",
      "Processed visit 845601\n",
      "Processed visit 845609\n",
      "Processed visit 845611\n",
      "Processed visit 845595\n",
      "Processed visit 845585\n",
      "Processed visit 845626\n",
      "Processed visit 845613\n",
      "Processed visit 845603\n",
      "Processed visit 845624\n",
      "Processed visit 845628\n",
      "Processed visit 845605\n",
      "Processed visit 845621\n",
      "Processed visit 845634\n",
      "Processed visit 845630\n",
      "Processed visit 845623\n",
      "Processed visit 845638\n",
      "Processed visit 845632\n",
      "Processed visit 845636\n",
      "Processed visit 845640\n",
      "Processed visit 845627\n",
      "Processed visit 845642\n",
      "Processed visit 845635\n",
      "Processed visit 845631\n",
      "Processed visit 845629\n",
      "Processed visit 845633\n",
      "Processed visit 845639\n",
      "Processed visit 845625\n",
      "Processed visit 845637\n",
      "Processed visit 845641\n",
      "Processed visit 845644\n",
      "Processed visit 845643\n",
      "Processed visit 845645\n",
      "Processed visit 845646\n",
      "Processed visit 845650\n",
      "Processed visit 845648\n",
      "Processed visit 845652\n",
      "Processed visit 845654\n",
      "Processed visit 845651\n",
      "Processed visit 845647\n",
      "Processed visit 845658\n",
      "Processed visit 845653\n",
      "Processed visit 845656\n",
      "Processed visit 845649\n",
      "Processed visit 845655\n",
      "Processed visit 845660\n",
      "Processed visit 845662\n",
      "Processed visit 845659\n",
      "Processed visit 845657\n",
      "Processed visit 845664\n",
      "Processed visit 845661\n",
      "Processed visit 845663\n",
      "Processed visit 845666\n",
      "Processed visit 845665\n",
      "Processed visit 845668\n",
      "Processed visit 845667\n",
      "Processed visit 845670\n",
      "Processed visit 845669\n",
      "Processed visit 845672\n",
      "Processed visit 845671\n",
      "Processed visit 845674\n",
      "Processed visit 845678\n",
      "Processed visit 845673\n",
      "Processed visit 845676\n",
      "Processed visit 845682\n",
      "Processed visit 845680\n",
      "Processed visit 845679\n",
      "Processed visit 845675\n",
      "Processed visit 845681\n",
      "Processed visit 845677\n"
     ]
    }
   ],
   "source": [
    "# Match the objects from MPC with pixel locations in the DECam NEO Survey\n",
    "# Can comment this out if you don't want to select on slow movers (total_motion is arcsec/hr.)\n",
    "# Cut the dataframe based on desired brightness and speed\n",
    "# Generate the path to the data\n",
    "dataPath = '/astro/store/pogo4/smotherh/DEEP/PointingGroups/Hyak/A0b/warps_calexp'\n",
    "#dataPath = '/nvme/users/smotherh/DEEP/PointingGroups/A0b/warps'\n",
    "cutDF = orbits\n",
    "nightVisits = np.array(orbits['visit'])\n",
    "def matchCcds(ccd):\n",
    "    \"\"\"This is a wrapper for matchSingleVisit.\n",
    "    It allows it to easily run in parallel with a simple\n",
    "    pool.map() call.\n",
    "    \"\"\"\n",
    "    #visitDF = cutDF.query('visit_id == %i' % visit)\n",
    "    #visitDF = visitDF.reset_index(drop=True)\n",
    "    visitLocal=nightVisits[20]\n",
    "    visitDF = matchSingleVisitCcd(cutDF,visitLocal,ccd,dataPath)\n",
    "    print('Processed ccd {}'.format(ccd))\n",
    "    return(visitDF)\n",
    "\n",
    "def matchVisits(visit):\n",
    "    \"\"\"This is a wrapper for matchSingleVisit.\n",
    "    It allows it to easily run in parallel with a simple\n",
    "    pool.map() call.\n",
    "    \"\"\"\n",
    "    #visitDF = cutDF.query('visit_id == %i' % visit)\n",
    "    #visitDF = visitDF.reset_index(drop=True)\n",
    "    ccd=43\n",
    "    visitDF = matchSingleVisitCcd(cutDF,visit,ccd,dataPath)\n",
    "    print('Processed visit {}'.format(visit))\n",
    "    return(visitDF)\n",
    "\n",
    "def matchSingleVisitCcd(visitDF,visit,ccd,dataPath,verbose=False):\n",
    "    \"\"\"Match the MPC object RA and DEC to pixel coorinates in the DECam NEO Survey\n",
    "    Inputs-\n",
    "        visitDF : Dataframe from runMPCRequests.\n",
    "            It should only contain values from a single visit, although it may\n",
    "            have multiple objects in that visit.\n",
    "            Can be cut on magnitude, etc. if desired\n",
    "        dataPath : Path to the DECam NEO Survey warps.\n",
    "        verbose : Verbosity flag for print output\n",
    "\n",
    "    Outputs-\n",
    "        visitDF : Updated Dataframe with object->pixel relationships.\n",
    "    \"\"\"    \n",
    "\n",
    "    i=ccd\n",
    "    if verbose:\n",
    "        print('Processing visit {}.'.format(visit))\n",
    "    # Iterate over all moving objects (rows) in the visitDF\n",
    "    obj_row = visitDF[visitDF['visit']==visit]\n",
    "    # Set ra and dec and use them to generate a SkyCoord object\n",
    "    ra = obj_row['RA']\n",
    "    dec = obj_row['DEC']\n",
    "    c = SkyCoord(ra, dec, frame='icrs', unit=(u.deg, u.deg))\n",
    "    # Iterate over CCDs\n",
    "    # CCD 2 and 61 are broken on DECam and should be skipped\n",
    "    if (i==2 or i==31 or i==61):\n",
    "        return(obj_row)\n",
    "    if verbose:\n",
    "        print('Processing ccd {} of 62.'.format(i))\n",
    "    # Calculate the pixel values for the objects in the visit\n",
    "    try:\n",
    "        # Load only the fits header, changing the path for varying CCDs\n",
    "        fitsHeader = fits.getheader('%s/%02i/0%s.fits' % (dataPath,i,visit),1)\n",
    "        # Load the world coordinate system and find the pixel values\n",
    "        w = WCS(fitsHeader)\n",
    "        x_pix, y_pix = c.to_pixel(w)\n",
    "        # If the returned pixel values are on the given CCD, save the object\n",
    "        if (x_pix < 2010) and (x_pix > 0) and (y_pix < 4100) and (y_pix > 0):\n",
    "            if verbose:\n",
    "                print(obj_row['name'], ra, dec)\n",
    "                print(x_pix, y_pix)\n",
    "            obj_row['x_pixel'] = x_pix\n",
    "            obj_row['y_pixel'] = y_pix\n",
    "            obj_row['ccd'] = i\n",
    "    except:\n",
    "        return(obj_row)\n",
    "    return(obj_row)\n",
    "\n",
    "with mp.Pool(20) as pool:\n",
    "    results = pool.map(matchVisits,nightVisits)\n",
    "#with mp.Pool(20) as pool:\n",
    "#    results = pool.map(matchCcds,range(1,63))\n",
    "# Concatenate the results back into a single dataframe.\n",
    "#results = results[0]"
   ]
  },
  {
   "cell_type": "code",
   "execution_count": 136,
   "metadata": {},
   "outputs": [
    {
     "name": "stdout",
     "output_type": "stream",
     "text": [
      "ccd\n",
      "---\n",
      " 57\n"
     ]
    }
   ],
   "source": [
    "for i in range(62):\n",
    "    foo = results[i]\n",
    "    onCcd = foo[foo['ccd']>0]\n",
    "    if len(onCcd)>0:\n",
    "        print(onCcd['ccd'])\n"
   ]
  },
  {
   "cell_type": "code",
   "execution_count": 160,
   "metadata": {},
   "outputs": [
    {
     "data": {
      "text/html": [
       "&lt;Row index=0 masked=True&gt;\n",
       "<table id=\"table140390217842760\">\n",
       "<thead><tr><th>targetname</th><th>datetime_str</th><th>datetime_jd</th><th>H</th><th>G</th><th>solar_presence</th><th>flags</th><th>RA</th><th>DEC</th><th>V</th><th>visit</th><th>x_pixel</th><th>y_pixel</th><th>ccd</th><th>times</th></tr></thead>\n",
       "<thead><tr><th>---</th><th>---</th><th>d</th><th>mag</th><th>---</th><th>---</th><th>---</th><th>deg</th><th>deg</th><th>mag</th><th></th><th></th><th></th><th></th><th></th></tr></thead>\n",
       "<thead><tr><th>str19</th><th>str24</th><th>float64</th><th>float64</th><th>float64</th><th>str1</th><th>str1</th><th>float64</th><th>float64</th><th>float64</th><th>int64</th><th>float64</th><th>float64</th><th>int64</th><th>float64</th></tr></thead>\n",
       "<tr><td>500829 (2013 GT136)</td><td>2019-Apr-03 05:09:05.668</td><td>2458576.714648935</td><td>7.4</td><td>0.15</td><td></td><td></td><td>216.47994</td><td>-13.82978</td><td>24.35</td><td>845580</td><td>678.0195563679521</td><td>3828.245208803341</td><td>43</td><td>2458576.714648935</td></tr>\n",
       "</table>"
      ],
      "text/plain": [
       "<Row index=0 masked=True>\n",
       "     targetname           datetime_str          datetime_jd       H       G    solar_presence flags     RA       DEC       V    visit       x_pixel           y_pixel       ccd        times      \n",
       "        ---                   ---                    d           mag     ---        ---        ---     deg       deg      mag                                                                     \n",
       "       str19                 str24                float64      float64 float64      str1       str1  float64   float64  float64 int64       float64           float64      int64      float64     \n",
       "------------------- ------------------------ ----------------- ------- ------- -------------- ----- --------- --------- ------- ------ ----------------- ----------------- ----- -----------------\n",
       "500829 (2013 GT136) 2019-Apr-03 05:09:05.668 2458576.714648935     7.4    0.15                      216.47994 -13.82978   24.35 845580 678.0195563679521 3828.245208803341    43 2458576.714648935"
      ]
     },
     "execution_count": 160,
     "metadata": {},
     "output_type": "execute_result"
    }
   ],
   "source": [
    "allResults = vstack(results)\n",
    "allResults = allResults[allResults['ccd']>0]\n",
    "allResults[0]"
   ]
  },
  {
   "cell_type": "code",
   "execution_count": 194,
   "metadata": {},
   "outputs": [
    {
     "name": "stdout",
     "output_type": "stream",
     "text": [
      "103\n"
     ]
    }
   ],
   "source": [
    "mask = np.array(sorted(random.sample(range(1,len(allResults)),10)))\n",
    "mask\n",
    "print(len(allResults))"
   ]
  },
  {
   "cell_type": "code",
   "execution_count": 192,
   "metadata": {},
   "outputs": [
    {
     "data": {
      "text/plain": [
       "True"
      ]
     },
     "execution_count": 192,
     "metadata": {},
     "output_type": "execute_result"
    }
   ],
   "source": [
    "import random\n",
    "(mask==88).any()"
   ]
  },
  {
   "cell_type": "code",
   "execution_count": 203,
   "metadata": {},
   "outputs": [
    {
     "name": "stdout",
     "output_type": "stream",
     "text": [
      "103\n",
      "[  1  14  42  45  58  60  78  84  85  86  87  91  97 100]\n"
     ]
    },
    {
     "data": {
      "image/png": "[encoded data removed]",
      "text/plain": [
       "<Figure size 1080x756 with 15 Axes>"
      ]
     },
     "metadata": {},
     "output_type": "display_data"
    }
   ],
   "source": [
    "def makeStamps(singleObject,imagePath,imagePlane='science',numCols=5,\n",
    "               stampSize=[31,31]):\n",
    "    \"\"\"Generate postage stamps of an MPC object in the Lori Allen Dataset.\n",
    "    \n",
    "    INPUT-\n",
    "        name: This is the name of the object for which to find the image.\n",
    "            Names come from the query_MPC notebook that pulls data down from\n",
    "            the Minor Planets Center.\n",
    "\n",
    "        objectList: A pandas dataframe as generated by query_MPC.\n",
    "\n",
    "        imagePath: The path to the stack of images from which to make stamps.\n",
    "\n",
    "        numCols: The number of columns in the postage stamp subplot.\n",
    "\n",
    "        imagePlane : From which plane of the fits file should the stamps be\n",
    "            made? Acceptable options:\n",
    "            'science' : The science image plane\n",
    "            'mask' : The mask image plane\n",
    "            'variance' : The varience image plane\n",
    "    \"\"\"\n",
    "    totalLength = len(singleObject)\n",
    "    # Set the plane number used for loading the data from a fits file\n",
    "    if imagePlane == 'science':\n",
    "        imagePlaneNum = 1\n",
    "    elif imagePlane == 'mask':\n",
    "        imagePlaneNum = 2\n",
    "    elif imagePlane == 'variance':\n",
    "        imagePlaneNum = 3\n",
    "\n",
    "    # Find the number of subplots to make. Add one for the coadd.\n",
    "    #numPlots = len(singleObject)+1\n",
    "    numPlots=15\n",
    "    # Compute number of rows for the plot\n",
    "    numRows = numPlots // numCols\n",
    "    # Add a row if numCols doesn't divide evenly into numPlots\n",
    "    if (numPlots % numCols):\n",
    "        numRows+=1\n",
    "    # Add a row if numRows=1. Avoids an error caused by ax being 1D.\n",
    "    if (numRows==1):\n",
    "        numRows+=1\n",
    "    # Generate the subplots, setting the size with figsize\n",
    "    fig,ax = plt.subplots(nrows=numRows,ncols=numCols,\n",
    "                          figsize=[3*numCols,3.5*numRows])\n",
    "    objectMag = np.max(singleObject['V'])\n",
    "    # Find object velocity in pixels/day and the object angle in radians\n",
    "    # total_motion is in arcsec/hr. DECam has .26arcsec/pixel ccd's. 24 hr/day.\n",
    "    # Load initial and final object positions and calculate the trajectory angle\n",
    "    findMotion = singleObject[singleObject['ccd']==singleObject['ccd'][0]]\n",
    "    xi = np.array([findMotion['x_pixel'][0],\n",
    "                   findMotion['y_pixel'][0]])\n",
    "    xf = np.array([findMotion['x_pixel'][-1],\n",
    "                   findMotion['y_pixel'][-1]])\n",
    "    dx = xf-xi\n",
    "    objectAngle = np.arctan2(dx[1],dx[0])\n",
    "    dr = np.linalg.norm(dx)\n",
    "    dt= findMotion['times'][-1] - findMotion['times'][0]\n",
    "    objectVel = dr/dt\n",
    "    xVel = dx[0]/dt\n",
    "    yVel = dx[1]/dt\n",
    "    \n",
    "    if objectAngle<0:\n",
    "        objectAngle += 2*np.pi\n",
    "    figTitle = '{}: {} image\\nv_mag={}, velocity=[{:.2f},{:.2f}]={:.2f} px/day, angle={:.2f}'\n",
    "    fig.suptitle(figTitle.format(singleObject['targetname'][0],imagePlane,objectMag,xVel,yVel,objectVel,objectAngle),\n",
    "                 fontsize=16)\n",
    "    # Turn off all axes. They will be turned back on for proper plots.\n",
    "    for row in ax:\n",
    "        for column in row:\n",
    "            column.axis('off')\n",
    "\n",
    "    stampEdge = (stampSize[0]-1)/2\n",
    "    size = stampSize[0]\n",
    "    x = np.linspace(-stampEdge, stampEdge, size)\n",
    "    y = np.linspace(-stampEdge, stampEdge, size)\n",
    "    sigma_x = 1.4\n",
    "    sigma_y = 1.4\n",
    "\n",
    "    x, y = np.meshgrid(x, y)\n",
    "    gaussian_kernel = (1/(2*np.pi*sigma_x*sigma_y) \n",
    "        * np.exp(-(x**2/(2*sigma_x**2) + y**2/(2*sigma_y**2))))\n",
    "    sum_pipi = np.sum(gaussian_kernel**2)\n",
    "    noise_kernel = np.zeros(stampSize)\n",
    "    mask_lims = 7\n",
    "    x_mask = np.logical_or(x>mask_lims, x<-mask_lims)\n",
    "    y_mask = np.logical_or(y>mask_lims, y<-mask_lims)\n",
    "    mask = np.logical_or(x_mask,y_mask)\n",
    "    noise_kernel[mask] = 1\n",
    "\n",
    "    # Set the axis indexes. These are needed to plot the stamp in the correct subplot\n",
    "    axi=0\n",
    "    axj=1\n",
    "    print(totalLength)\n",
    "    mask = np.array(sorted(random.sample(range(1,totalLength),14)))\n",
    "    print(mask)\n",
    "    maskedObject = singleObject[mask]\n",
    "    for i,row in enumerate(singleObject):\n",
    "        # Get the Lori Allen visit id from the single object list\n",
    "        visit_id = row['visit']\n",
    "        ccd = row['ccd']\n",
    "        # Get the x and y values from the first object in the cut list. Round to an integer.\n",
    "        objectLoc = np.round([row['x_pixel'],row['y_pixel']])\n",
    "        # Open up the fits file of interest using the pre-defined filepath string\n",
    "        hdul = fits.open(os.path.join(imagePath,'{:02}/0{}.fits'.format(ccd,visit_id)))\n",
    "\n",
    "        # Generate the minimum and maximum pixel values for the stamps using stampSize\n",
    "        xmin = int(objectLoc[0]-(stampSize[0]-1)/2+0.5)-1\n",
    "        xmax = int(objectLoc[0]+(stampSize[0]-1)/2+0.5)\n",
    "        ymin = int(objectLoc[1]-(stampSize[1]-1)/2+0.5)-1\n",
    "        ymax = int(objectLoc[1]+(stampSize[1]-1)/2+0.5)\n",
    "\n",
    "        im_dims = np.shape(hdul[imagePlaneNum].data)\n",
    "        # Plot the stamp\n",
    "        stampData = hdul[imagePlaneNum].data[ymin:ymax,xmin:xmax]\n",
    "        #print(np.isnan(stampData))\n",
    "        stampData[np.isnan(stampData)] = 0.0\n",
    "        if i==0:\n",
    "            coaddData=stampData\n",
    "        else:\n",
    "            coaddData+=stampData\n",
    "        signal = np.sum(stampData*gaussian_kernel)\n",
    "        noise = np.var(stampData*noise_kernel)\n",
    "        SNR = signal/np.sqrt(noise*sum_pipi)\n",
    "        if (mask==i).any():\n",
    "            im = ax[axi,axj].imshow(stampData,cmap=plt.cm.bone)\n",
    "            ax[axi,axj].set_title(\n",
    "                'ccd={} | visit={}\\nSNR={:.2f}'.format(ccd,visit_id,SNR))\n",
    "            ax[axi,axj].axis('on')\n",
    "            # Compute the axis indexes for the next iteration\n",
    "            if axj<numCols-1:\n",
    "                axj+=1\n",
    "            else:\n",
    "                axj=0\n",
    "                axi+=1\n",
    "    im = ax[0,0].imshow(coaddData,cmap=plt.cm.bone)\n",
    "    signal = np.sum(coaddData*gaussian_kernel)\n",
    "    noise = np.var(coaddData*noise_kernel)\n",
    "    SNR = signal/np.sqrt(noise*sum_pipi)\n",
    "    ax[0,0].axis('on')\n",
    "    _=ax[0,0].set_title('Coadd | SNR={:.2f}'.format(SNR))\n",
    "    return(coaddData)\n",
    "coaddData = makeStamps(allResults,dataPath,stampSize=[21,21],numCols=5)\n",
    "plt.savefig('2013_GT136_Sample.png')\n",
    "#_ = makeStamps(allResults,dataPath,imagePlane='mask')\n",
    "#_ = makeStamps(results,dataPath,imagePlane='variance')\n",
    "\n"
   ]
  },
  {
   "cell_type": "code",
   "execution_count": 13,
   "metadata": {},
   "outputs": [
    {
     "data": {
      "text/html": [
       "&lt;Table masked=True length=103&gt;\n",
       "<table id=\"table140434667857736\" class=\"table-striped table-bordered table-condensed\">\n",
       "<thead><tr><th>targetname</th><th>datetime_str</th><th>datetime_jd</th><th>H</th><th>G</th><th>solar_presence</th><th>flags</th><th>RA</th><th>DEC</th><th>V</th><th>visit</th><th>x_pixel</th><th>y_pixel</th><th>ccd</th><th>times</th></tr></thead>\n",
       "<thead><tr><th>---</th><th>---</th><th>d</th><th>mag</th><th>---</th><th>---</th><th>---</th><th>deg</th><th>deg</th><th>mag</th><th></th><th></th><th></th><th></th><th></th></tr></thead>\n",
       "<thead><tr><th>str19</th><th>str24</th><th>float64</th><th>float64</th><th>float64</th><th>str1</th><th>str1</th><th>float64</th><th>float64</th><th>float64</th><th>int64</th><th>int64</th><th>int64</th><th>int64</th><th>float64</th></tr></thead>\n",
       "<tr><td>500829 (2013 GT136)</td><td>2019-Apr-03 05:09:05.668</td><td>2458576.714648935</td><td>7.4</td><td>0.15</td><td></td><td></td><td>216.47994</td><td>-13.82978</td><td>24.35</td><td>845580</td><td>678</td><td>3828</td><td>43</td><td>2458576.714648935</td></tr>\n",
       "<tr><td>500829 (2013 GT136)</td><td>2019-Apr-03 05:11:33.437</td><td>2458576.716359225</td><td>7.4</td><td>0.15</td><td></td><td></td><td>216.47991</td><td>-13.82977</td><td>24.35</td><td>845581</td><td>677</td><td>3827</td><td>43</td><td>2458576.7163592246</td></tr>\n",
       "<tr><td>500829 (2013 GT136)</td><td>2019-Apr-03 05:14:01.338</td><td>2458576.718071042</td><td>7.4</td><td>0.15</td><td></td><td></td><td>216.47988</td><td>-13.82976</td><td>24.35</td><td>845582</td><td>677</td><td>3827</td><td>43</td><td>2458576.7180710416</td></tr>\n",
       "<tr><td>500829 (2013 GT136)</td><td>2019-Apr-03 05:16:28.969</td><td>2458576.719779734</td><td>7.4</td><td>0.15</td><td></td><td></td><td>216.47986</td><td>-13.82975</td><td>24.35</td><td>845583</td><td>677</td><td>3827</td><td>43</td><td>2458576.7197797336</td></tr>\n",
       "<tr><td>500829 (2013 GT136)</td><td>2019-Apr-03 05:18:57.403</td><td>2458576.72149772</td><td>7.4</td><td>0.15</td><td></td><td></td><td>216.47983</td><td>-13.82974</td><td>24.35</td><td>845584</td><td>677</td><td>3826</td><td>43</td><td>2458576.72149772</td></tr>\n",
       "<tr><td>500829 (2013 GT136)</td><td>2019-Apr-03 05:21:25.273</td><td>2458576.723209178</td><td>7.4</td><td>0.15</td><td></td><td></td><td>216.4798</td><td>-13.82974</td><td>24.35</td><td>845585</td><td>677</td><td>3826</td><td>43</td><td>2458576.723209178</td></tr>\n",
       "<tr><td>500829 (2013 GT136)</td><td>2019-Apr-03 05:23:52.826</td><td>2458576.724916968</td><td>7.4</td><td>0.15</td><td></td><td></td><td>216.47978</td><td>-13.82973</td><td>24.35</td><td>845586</td><td>677</td><td>3826</td><td>43</td><td>2458576.7249169676</td></tr>\n",
       "<tr><td>500829 (2013 GT136)</td><td>2019-Apr-03 05:26:21.680</td><td>2458576.726639815</td><td>7.4</td><td>0.15</td><td></td><td></td><td>216.47975</td><td>-13.82972</td><td>24.35</td><td>845587</td><td>677</td><td>3825</td><td>43</td><td>2458576.7266398147</td></tr>\n",
       "<tr><td>500829 (2013 GT136)</td><td>2019-Apr-03 05:28:49.516</td><td>2458576.72835088</td><td>7.4</td><td>0.15</td><td></td><td></td><td>216.47972</td><td>-13.82971</td><td>24.35</td><td>845588</td><td>677</td><td>3825</td><td>43</td><td>2458576.7283508796</td></tr>\n",
       "<tr><td>...</td><td>...</td><td>...</td><td>...</td><td>...</td><td>...</td><td>...</td><td>...</td><td>...</td><td>...</td><td>...</td><td>...</td><td>...</td><td>...</td><td>...</td></tr>\n",
       "<tr><td>500829 (2013 GT136)</td><td>2019-Apr-03 08:59:53.775</td><td>2458576.874927951</td><td>7.4</td><td>0.15</td><td></td><td></td><td>216.47741</td><td>-13.82904</td><td>24.35</td><td>845673</td><td>667</td><td>3794</td><td>43</td><td>2458576.8749279515</td></tr>\n",
       "<tr><td>500829 (2013 GT136)</td><td>2019-Apr-03 09:02:21.228</td><td>2458576.876634583</td><td>7.4</td><td>0.15</td><td></td><td></td><td>216.47739</td><td>-13.82903</td><td>24.35</td><td>845674</td><td>667</td><td>3794</td><td>43</td><td>2458576.8766345833</td></tr>\n",
       "<tr><td>500829 (2013 GT136)</td><td>2019-Apr-03 09:04:50.119</td><td>2458576.878357859</td><td>7.4</td><td>0.15</td><td></td><td></td><td>216.47736</td><td>-13.82902</td><td>24.35</td><td>845675</td><td>667</td><td>3793</td><td>43</td><td>2458576.878357859</td></tr>\n",
       "<tr><td>500829 (2013 GT136)</td><td>2019-Apr-03 09:07:19.211</td><td>2458576.880083461</td><td>7.4</td><td>0.15</td><td></td><td></td><td>216.47733</td><td>-13.82902</td><td>24.35</td><td>845676</td><td>667</td><td>3793</td><td>43</td><td>2458576.880083461</td></tr>\n",
       "<tr><td>500829 (2013 GT136)</td><td>2019-Apr-03 09:09:47.902</td><td>2458576.881804421</td><td>7.4</td><td>0.15</td><td></td><td></td><td>216.4773</td><td>-13.82901</td><td>24.35</td><td>845677</td><td>667</td><td>3793</td><td>43</td><td>2458576.881804421</td></tr>\n",
       "<tr><td>500829 (2013 GT136)</td><td>2019-Apr-03 09:12:17.616</td><td>2458576.883537222</td><td>7.4</td><td>0.15</td><td></td><td></td><td>216.47728</td><td>-13.829</td><td>24.35</td><td>845678</td><td>667</td><td>3792</td><td>43</td><td>2458576.883537222</td></tr>\n",
       "<tr><td>500829 (2013 GT136)</td><td>2019-Apr-03 09:14:47.196</td><td>2458576.885268472</td><td>7.4</td><td>0.15</td><td></td><td>m</td><td>216.47725</td><td>-13.82899</td><td>24.35</td><td>845679</td><td>667</td><td>3792</td><td>43</td><td>2458576.885268472</td></tr>\n",
       "<tr><td>500829 (2013 GT136)</td><td>2019-Apr-03 09:17:15.562</td><td>2458576.886985671</td><td>7.4</td><td>0.15</td><td></td><td>m</td><td>216.47722</td><td>-13.82898</td><td>24.35</td><td>845680</td><td>667</td><td>3792</td><td>43</td><td>2458576.8869856712</td></tr>\n",
       "<tr><td>500829 (2013 GT136)</td><td>2019-Apr-03 09:19:44.971</td><td>2458576.888714942</td><td>7.4</td><td>0.15</td><td></td><td>m</td><td>216.4772</td><td>-13.82898</td><td>24.35</td><td>845681</td><td>667</td><td>3791</td><td>43</td><td>2458576.888714942</td></tr>\n",
       "<tr><td>500829 (2013 GT136)</td><td>2019-Apr-03 09:22:12.704</td><td>2458576.890424815</td><td>7.4</td><td>0.15</td><td></td><td>m</td><td>216.47717</td><td>-13.82897</td><td>24.35</td><td>845682</td><td>666</td><td>3791</td><td>43</td><td>2458576.890424815</td></tr>\n",
       "</table>"
      ],
      "text/plain": [
       "<Table masked=True length=103>\n",
       "     targetname           datetime_str       ...  ccd        times       \n",
       "        ---                   ---            ...                         \n",
       "       str19                 str24           ... int64      float64      \n",
       "------------------- ------------------------ ... ----- ------------------\n",
       "500829 (2013 GT136) 2019-Apr-03 05:09:05.668 ...    43  2458576.714648935\n",
       "500829 (2013 GT136) 2019-Apr-03 05:11:33.437 ...    43 2458576.7163592246\n",
       "500829 (2013 GT136) 2019-Apr-03 05:14:01.338 ...    43 2458576.7180710416\n",
       "500829 (2013 GT136) 2019-Apr-03 05:16:28.969 ...    43 2458576.7197797336\n",
       "500829 (2013 GT136) 2019-Apr-03 05:18:57.403 ...    43   2458576.72149772\n",
       "500829 (2013 GT136) 2019-Apr-03 05:21:25.273 ...    43  2458576.723209178\n",
       "500829 (2013 GT136) 2019-Apr-03 05:23:52.826 ...    43 2458576.7249169676\n",
       "500829 (2013 GT136) 2019-Apr-03 05:26:21.680 ...    43 2458576.7266398147\n",
       "500829 (2013 GT136) 2019-Apr-03 05:28:49.516 ...    43 2458576.7283508796\n",
       "                ...                      ... ...   ...                ...\n",
       "500829 (2013 GT136) 2019-Apr-03 08:59:53.775 ...    43 2458576.8749279515\n",
       "500829 (2013 GT136) 2019-Apr-03 09:02:21.228 ...    43 2458576.8766345833\n",
       "500829 (2013 GT136) 2019-Apr-03 09:04:50.119 ...    43  2458576.878357859\n",
       "500829 (2013 GT136) 2019-Apr-03 09:07:19.211 ...    43  2458576.880083461\n",
       "500829 (2013 GT136) 2019-Apr-03 09:09:47.902 ...    43  2458576.881804421\n",
       "500829 (2013 GT136) 2019-Apr-03 09:12:17.616 ...    43  2458576.883537222\n",
       "500829 (2013 GT136) 2019-Apr-03 09:14:47.196 ...    43  2458576.885268472\n",
       "500829 (2013 GT136) 2019-Apr-03 09:17:15.562 ...    43 2458576.8869856712\n",
       "500829 (2013 GT136) 2019-Apr-03 09:19:44.971 ...    43  2458576.888714942\n",
       "500829 (2013 GT136) 2019-Apr-03 09:22:12.704 ...    43  2458576.890424815"
      ]
     },
     "execution_count": 13,
     "metadata": {},
     "output_type": "execute_result"
    }
   ],
   "source": [
    "results"
   ]
  },
  {
   "cell_type": "code",
   "execution_count": 145,
   "metadata": {},
   "outputs": [],
   "source": [
    "from skimage import measure\n",
    "center_thresh = 0.03\n",
    "x_peak_offset, y_peak_offset = [2,2]\n",
    "stamps = coaddData\n",
    "s = stamps - np.min(stamps)\n",
    "s /= np.sum(s)\n",
    "s = np.array(s, dtype=np.dtype('float64')).reshape(21,21)\n",
    "mom = measure.moments_central(s, center=(10,10))\n",
    "mom_list = [mom[2, 0], mom[0, 2], mom[1, 1], mom[1, 0], mom[0, 1]]\n",
    "peak_1, peak_2 = np.where(s == np.max(s))"
   ]
  },
  {
   "cell_type": "code",
   "execution_count": 146,
   "metadata": {},
   "outputs": [
    {
     "name": "stdout",
     "output_type": "stream",
     "text": [
      "[28.590459257829934, 30.768881161362515, -1.1698411820834735, -0.21762166520420578, 1.184819403108122]\n",
      "[10] [11]\n"
     ]
    }
   ],
   "source": [
    "print(mom_list)\n",
    "print(peak_1, peak_2)"
   ]
  },
  {
   "cell_type": "code",
   "execution_count": 15,
   "metadata": {},
   "outputs": [
    {
     "name": "stdout",
     "output_type": "stream",
     "text": [
      "[28.27251375076594, 28.20129837351851, 0.5492855807533488, 0.1530456606997177, 0.5972871736739762]\n",
      "[11] [11]\n"
     ]
    }
   ],
   "source": [
    "print(mom_list)\n",
    "print(peak_1, peak_2)"
   ]
  },
  {
   "cell_type": "code",
   "execution_count": 100,
   "metadata": {},
   "outputs": [
    {
     "name": "stdout",
     "output_type": "stream",
     "text": [
      "[25.45376499183476, 25.866023462906014, 0.1995414753910154, 0.08751042431686074, -0.17821833962807432]\n",
      "[10] [10]\n"
     ]
    }
   ],
   "source": [
    "print(mom_list)\n",
    "print(peak_1, peak_2)"
   ]
  },
  {
   "cell_type": "code",
   "execution_count": 147,
   "metadata": {},
   "outputs": [
    {
     "data": {
      "text/plain": [
       "array([[ 9.99999982e-01,  1.18481940e+00,  3.07688812e+01,\n",
       "         6.50558268e+01],\n",
       "       [-2.17621665e-01, -1.16984118e+00, -1.37527845e+01,\n",
       "        -7.55450736e+01],\n",
       "       [ 2.85904593e+01,  3.44737644e+01,  1.06276206e+03,\n",
       "         2.16410674e+03],\n",
       "       [-2.16750318e+01, -6.06942558e+01, -9.34540561e+02,\n",
       "        -3.19535719e+03]])"
      ]
     },
     "execution_count": 147,
     "metadata": {},
     "output_type": "execute_result"
    }
   ],
   "source": [
    "mom"
   ]
  },
  {
   "cell_type": "code",
   "execution_count": 150,
   "metadata": {},
   "outputs": [
    {
     "data": {
      "text/plain": [
       "1.5381807436059003"
      ]
     },
     "execution_count": 150,
     "metadata": {},
     "output_type": "execute_result"
    }
   ],
   "source": [
    "np.sqrt(35)*.26"
   ]
  },
  {
   "cell_type": "code",
   "execution_count": null,
   "metadata": {},
   "outputs": [],
   "source": []
  }
 ],
 "metadata": {
  "kernelspec": {
   "display_name": "Python 3",
   "language": "python",
   "name": "python3"
  },
  "language_info": {
   "codemirror_mode": {
    "name": "ipython",
    "version": 3
   },
   "file_extension": ".py",
   "mimetype": "text/x-python",
   "name": "python",
   "nbconvert_exporter": "python",
   "pygments_lexer": "ipython3",
   "version": "3.6.8"
  }
 },
 "nbformat": 4,
 "nbformat_minor": 2
}
